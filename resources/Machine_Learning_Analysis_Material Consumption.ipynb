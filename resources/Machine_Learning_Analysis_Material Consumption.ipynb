{
 "cells": [
  {
   "cell_type": "markdown",
   "metadata": {},
   "source": [
    "# Part II: Machine Learning Analysis \n",
    "\n",
    "This is the continuation of \"Sustainability_Analysis.ipynb\" where the data from the UN's Global Sustainable Development Goals website was cleaned and merged into the csv file below.\n",
    "\n",
    "Country development ranking determined by the Human Development Index for 2020 was downloaded as a csv file and referenced here: https://worldpopulationreview.com/countries/developed-countries/"
   ]
  },
  {
   "cell_type": "code",
   "execution_count": 1,
   "metadata": {},
   "outputs": [],
   "source": [
    "# Import dependencies\n",
    "%matplotlib inline\n",
    "import matplotlib.pyplot as plt\n",
    "import numpy as np\n",
    "import warnings\n",
    "warnings.simplefilter(action='ignore', category=FutureWarning)\n",
    "import pandas as pd\n",
    "from scipy import stats"
   ]
  },
  {
   "cell_type": "code",
   "execution_count": 6,
   "metadata": {},
   "outputs": [
    {
     "data": {
      "text/html": [
       "<div>\n",
       "<style scoped>\n",
       "    .dataframe tbody tr th:only-of-type {\n",
       "        vertical-align: middle;\n",
       "    }\n",
       "\n",
       "    .dataframe tbody tr th {\n",
       "        vertical-align: top;\n",
       "    }\n",
       "\n",
       "    .dataframe thead th {\n",
       "        text-align: right;\n",
       "    }\n",
       "</style>\n",
       "<table border=\"1\" class=\"dataframe\">\n",
       "  <thead>\n",
       "    <tr style=\"text-align: right;\">\n",
       "      <th></th>\n",
       "      <th>name</th>\n",
       "      <th>year</th>\n",
       "      <th>HDI</th>\n",
       "      <th>Population</th>\n",
       "      <th>MCPC</th>\n",
       "    </tr>\n",
       "  </thead>\n",
       "  <tbody>\n",
       "    <tr>\n",
       "      <th>0</th>\n",
       "      <td>Afghanistan</td>\n",
       "      <td>2010</td>\n",
       "      <td>0.498</td>\n",
       "      <td>38928.346</td>\n",
       "      <td>12.528861</td>\n",
       "    </tr>\n",
       "    <tr>\n",
       "      <th>1</th>\n",
       "      <td>Afghanistan</td>\n",
       "      <td>2011</td>\n",
       "      <td>0.498</td>\n",
       "      <td>38928.346</td>\n",
       "      <td>11.792660</td>\n",
       "    </tr>\n",
       "    <tr>\n",
       "      <th>2</th>\n",
       "      <td>Afghanistan</td>\n",
       "      <td>2012</td>\n",
       "      <td>0.498</td>\n",
       "      <td>38928.346</td>\n",
       "      <td>12.081480</td>\n",
       "    </tr>\n",
       "    <tr>\n",
       "      <th>3</th>\n",
       "      <td>Afghanistan</td>\n",
       "      <td>2013</td>\n",
       "      <td>0.498</td>\n",
       "      <td>38928.346</td>\n",
       "      <td>12.033060</td>\n",
       "    </tr>\n",
       "    <tr>\n",
       "      <th>4</th>\n",
       "      <td>Afghanistan</td>\n",
       "      <td>2014</td>\n",
       "      <td>0.498</td>\n",
       "      <td>38928.346</td>\n",
       "      <td>11.688480</td>\n",
       "    </tr>\n",
       "    <tr>\n",
       "      <th>5</th>\n",
       "      <td>Afghanistan</td>\n",
       "      <td>2015</td>\n",
       "      <td>0.498</td>\n",
       "      <td>38928.346</td>\n",
       "      <td>11.579040</td>\n",
       "    </tr>\n",
       "    <tr>\n",
       "      <th>6</th>\n",
       "      <td>Afghanistan</td>\n",
       "      <td>2016</td>\n",
       "      <td>0.498</td>\n",
       "      <td>38928.346</td>\n",
       "      <td>11.504060</td>\n",
       "    </tr>\n",
       "    <tr>\n",
       "      <th>7</th>\n",
       "      <td>Afghanistan</td>\n",
       "      <td>2017</td>\n",
       "      <td>0.498</td>\n",
       "      <td>38928.346</td>\n",
       "      <td>11.473160</td>\n",
       "    </tr>\n",
       "    <tr>\n",
       "      <th>8</th>\n",
       "      <td>Albania</td>\n",
       "      <td>2010</td>\n",
       "      <td>0.785</td>\n",
       "      <td>2877.797</td>\n",
       "      <td>48.234960</td>\n",
       "    </tr>\n",
       "    <tr>\n",
       "      <th>9</th>\n",
       "      <td>Albania</td>\n",
       "      <td>2011</td>\n",
       "      <td>0.785</td>\n",
       "      <td>2877.797</td>\n",
       "      <td>48.667060</td>\n",
       "    </tr>\n",
       "    <tr>\n",
       "      <th>10</th>\n",
       "      <td>Albania</td>\n",
       "      <td>2012</td>\n",
       "      <td>0.785</td>\n",
       "      <td>2877.797</td>\n",
       "      <td>50.003980</td>\n",
       "    </tr>\n",
       "    <tr>\n",
       "      <th>11</th>\n",
       "      <td>Albania</td>\n",
       "      <td>2013</td>\n",
       "      <td>0.785</td>\n",
       "      <td>2877.797</td>\n",
       "      <td>49.760180</td>\n",
       "    </tr>\n",
       "    <tr>\n",
       "      <th>12</th>\n",
       "      <td>Albania</td>\n",
       "      <td>2014</td>\n",
       "      <td>0.785</td>\n",
       "      <td>2877.797</td>\n",
       "      <td>55.802000</td>\n",
       "    </tr>\n",
       "    <tr>\n",
       "      <th>13</th>\n",
       "      <td>Albania</td>\n",
       "      <td>2015</td>\n",
       "      <td>0.785</td>\n",
       "      <td>2877.797</td>\n",
       "      <td>57.076600</td>\n",
       "    </tr>\n",
       "    <tr>\n",
       "      <th>14</th>\n",
       "      <td>Albania</td>\n",
       "      <td>2016</td>\n",
       "      <td>0.785</td>\n",
       "      <td>2877.797</td>\n",
       "      <td>58.605360</td>\n",
       "    </tr>\n",
       "    <tr>\n",
       "      <th>15</th>\n",
       "      <td>Albania</td>\n",
       "      <td>2017</td>\n",
       "      <td>0.785</td>\n",
       "      <td>2877.797</td>\n",
       "      <td>60.347280</td>\n",
       "    </tr>\n",
       "    <tr>\n",
       "      <th>16</th>\n",
       "      <td>Algeria</td>\n",
       "      <td>2010</td>\n",
       "      <td>0.754</td>\n",
       "      <td>43851.044</td>\n",
       "      <td>47.625460</td>\n",
       "    </tr>\n",
       "    <tr>\n",
       "      <th>17</th>\n",
       "      <td>Algeria</td>\n",
       "      <td>2011</td>\n",
       "      <td>0.754</td>\n",
       "      <td>43851.044</td>\n",
       "      <td>46.409620</td>\n",
       "    </tr>\n",
       "    <tr>\n",
       "      <th>18</th>\n",
       "      <td>Algeria</td>\n",
       "      <td>2012</td>\n",
       "      <td>0.754</td>\n",
       "      <td>43851.044</td>\n",
       "      <td>49.101780</td>\n",
       "    </tr>\n",
       "    <tr>\n",
       "      <th>19</th>\n",
       "      <td>Algeria</td>\n",
       "      <td>2013</td>\n",
       "      <td>0.754</td>\n",
       "      <td>43851.044</td>\n",
       "      <td>50.232580</td>\n",
       "    </tr>\n",
       "  </tbody>\n",
       "</table>\n",
       "</div>"
      ],
      "text/plain": [
       "           name  year    HDI  Population       MCPC\n",
       "0   Afghanistan  2010  0.498   38928.346  12.528861\n",
       "1   Afghanistan  2011  0.498   38928.346  11.792660\n",
       "2   Afghanistan  2012  0.498   38928.346  12.081480\n",
       "3   Afghanistan  2013  0.498   38928.346  12.033060\n",
       "4   Afghanistan  2014  0.498   38928.346  11.688480\n",
       "5   Afghanistan  2015  0.498   38928.346  11.579040\n",
       "6   Afghanistan  2016  0.498   38928.346  11.504060\n",
       "7   Afghanistan  2017  0.498   38928.346  11.473160\n",
       "8       Albania  2010  0.785    2877.797  48.234960\n",
       "9       Albania  2011  0.785    2877.797  48.667060\n",
       "10      Albania  2012  0.785    2877.797  50.003980\n",
       "11      Albania  2013  0.785    2877.797  49.760180\n",
       "12      Albania  2014  0.785    2877.797  55.802000\n",
       "13      Albania  2015  0.785    2877.797  57.076600\n",
       "14      Albania  2016  0.785    2877.797  58.605360\n",
       "15      Albania  2017  0.785    2877.797  60.347280\n",
       "16      Algeria  2010  0.754   43851.044  47.625460\n",
       "17      Algeria  2011  0.754   43851.044  46.409620\n",
       "18      Algeria  2012  0.754   43851.044  49.101780\n",
       "19      Algeria  2013  0.754   43851.044  50.232580"
      ]
     },
     "execution_count": 6,
     "metadata": {},
     "output_type": "execute_result"
    }
   ],
   "source": [
    "# Read in the csv file\n",
    "sustainability_mat = pd.read_csv('data/merged_consumption_hdi.csv')\n",
    "sustainability_mat.head(20)"
   ]
  },
  {
   "cell_type": "code",
   "execution_count": 3,
   "metadata": {
    "scrolled": true
   },
   "outputs": [
    {
     "name": "stdout",
     "output_type": "stream",
     "text": [
      "<class 'pandas.core.frame.DataFrame'>\n",
      "RangeIndex: 1312 entries, 0 to 1311\n",
      "Data columns (total 5 columns):\n",
      "name          1312 non-null object\n",
      "year          1312 non-null int64\n",
      "HDI           1312 non-null float64\n",
      "Population    1312 non-null float64\n",
      "MCPC          1312 non-null float64\n",
      "dtypes: float64(3), int64(1), object(1)\n",
      "memory usage: 51.4+ KB\n",
      "None\n"
     ]
    }
   ],
   "source": [
    "# Drop null values\n",
    "print(sustainability_mat.info())\n",
    "sustainability_mat = sustainability_mat.dropna()"
   ]
  },
  {
   "cell_type": "code",
   "execution_count": 4,
   "metadata": {
    "scrolled": true
   },
   "outputs": [
    {
     "name": "stdout",
     "output_type": "stream",
     "text": [
      "<class 'pandas.core.frame.DataFrame'>\n",
      "Int64Index: 1312 entries, 0 to 1311\n",
      "Data columns (total 5 columns):\n",
      "name          1312 non-null object\n",
      "year          1312 non-null int64\n",
      "HDI           1312 non-null float64\n",
      "Population    1312 non-null float64\n",
      "MCPC          1312 non-null float64\n",
      "dtypes: float64(3), int64(1), object(1)\n",
      "memory usage: 61.5+ KB\n",
      "None\n"
     ]
    }
   ],
   "source": [
    "# Cleaned dataset has 486 rows and 6 columns\n",
    "print(sustainability_mat.info())"
   ]
  },
  {
   "cell_type": "markdown",
   "metadata": {},
   "source": [
    "### Global data"
   ]
  },
  {
   "cell_type": "code",
   "execution_count": 8,
   "metadata": {},
   "outputs": [
    {
     "data": {
      "text/html": [
       "<div>\n",
       "<style scoped>\n",
       "    .dataframe tbody tr th:only-of-type {\n",
       "        vertical-align: middle;\n",
       "    }\n",
       "\n",
       "    .dataframe tbody tr th {\n",
       "        vertical-align: top;\n",
       "    }\n",
       "\n",
       "    .dataframe thead th {\n",
       "        text-align: right;\n",
       "    }\n",
       "</style>\n",
       "<table border=\"1\" class=\"dataframe\">\n",
       "  <thead>\n",
       "    <tr style=\"text-align: right;\">\n",
       "      <th></th>\n",
       "      <th>name</th>\n",
       "      <th>HDI</th>\n",
       "      <th>Population</th>\n",
       "      <th>year</th>\n",
       "      <th>MCPC</th>\n",
       "    </tr>\n",
       "  </thead>\n",
       "  <tbody>\n",
       "    <tr>\n",
       "      <th>0</th>\n",
       "      <td>Afghanistan</td>\n",
       "      <td>0.498</td>\n",
       "      <td>38928.346</td>\n",
       "      <td>2010</td>\n",
       "      <td>12.528861</td>\n",
       "    </tr>\n",
       "    <tr>\n",
       "      <th>1</th>\n",
       "      <td>Afghanistan</td>\n",
       "      <td>0.498</td>\n",
       "      <td>38928.346</td>\n",
       "      <td>2011</td>\n",
       "      <td>11.792660</td>\n",
       "    </tr>\n",
       "    <tr>\n",
       "      <th>2</th>\n",
       "      <td>Afghanistan</td>\n",
       "      <td>0.498</td>\n",
       "      <td>38928.346</td>\n",
       "      <td>2012</td>\n",
       "      <td>12.081480</td>\n",
       "    </tr>\n",
       "    <tr>\n",
       "      <th>3</th>\n",
       "      <td>Afghanistan</td>\n",
       "      <td>0.498</td>\n",
       "      <td>38928.346</td>\n",
       "      <td>2013</td>\n",
       "      <td>12.033060</td>\n",
       "    </tr>\n",
       "    <tr>\n",
       "      <th>4</th>\n",
       "      <td>Afghanistan</td>\n",
       "      <td>0.498</td>\n",
       "      <td>38928.346</td>\n",
       "      <td>2014</td>\n",
       "      <td>11.688480</td>\n",
       "    </tr>\n",
       "    <tr>\n",
       "      <th>...</th>\n",
       "      <td>...</td>\n",
       "      <td>...</td>\n",
       "      <td>...</td>\n",
       "      <td>...</td>\n",
       "      <td>...</td>\n",
       "    </tr>\n",
       "    <tr>\n",
       "      <th>1307</th>\n",
       "      <td>Zimbabwe</td>\n",
       "      <td>0.535</td>\n",
       "      <td>14862.924</td>\n",
       "      <td>2013</td>\n",
       "      <td>19.213920</td>\n",
       "    </tr>\n",
       "    <tr>\n",
       "      <th>1308</th>\n",
       "      <td>Zimbabwe</td>\n",
       "      <td>0.535</td>\n",
       "      <td>14862.924</td>\n",
       "      <td>2014</td>\n",
       "      <td>20.650940</td>\n",
       "    </tr>\n",
       "    <tr>\n",
       "      <th>1309</th>\n",
       "      <td>Zimbabwe</td>\n",
       "      <td>0.535</td>\n",
       "      <td>14862.924</td>\n",
       "      <td>2015</td>\n",
       "      <td>19.497560</td>\n",
       "    </tr>\n",
       "    <tr>\n",
       "      <th>1310</th>\n",
       "      <td>Zimbabwe</td>\n",
       "      <td>0.535</td>\n",
       "      <td>14862.924</td>\n",
       "      <td>2016</td>\n",
       "      <td>18.887940</td>\n",
       "    </tr>\n",
       "    <tr>\n",
       "      <th>1311</th>\n",
       "      <td>Zimbabwe</td>\n",
       "      <td>0.535</td>\n",
       "      <td>14862.924</td>\n",
       "      <td>2017</td>\n",
       "      <td>18.316400</td>\n",
       "    </tr>\n",
       "  </tbody>\n",
       "</table>\n",
       "<p>1312 rows × 5 columns</p>\n",
       "</div>"
      ],
      "text/plain": [
       "             name    HDI  Population  year       MCPC\n",
       "0     Afghanistan  0.498   38928.346  2010  12.528861\n",
       "1     Afghanistan  0.498   38928.346  2011  11.792660\n",
       "2     Afghanistan  0.498   38928.346  2012  12.081480\n",
       "3     Afghanistan  0.498   38928.346  2013  12.033060\n",
       "4     Afghanistan  0.498   38928.346  2014  11.688480\n",
       "...           ...    ...         ...   ...        ...\n",
       "1307     Zimbabwe  0.535   14862.924  2013  19.213920\n",
       "1308     Zimbabwe  0.535   14862.924  2014  20.650940\n",
       "1309     Zimbabwe  0.535   14862.924  2015  19.497560\n",
       "1310     Zimbabwe  0.535   14862.924  2016  18.887940\n",
       "1311     Zimbabwe  0.535   14862.924  2017  18.316400\n",
       "\n",
       "[1312 rows x 5 columns]"
      ]
     },
     "execution_count": 8,
     "metadata": {},
     "output_type": "execute_result"
    }
   ],
   "source": [
    "# Create a list of the columns\n",
    "\n",
    "columns = ['name','HDI', 'Population','year', 'MCPC']\n",
    "\n",
    "#  Create a new df for the countries of interest with the columns. \n",
    "world_sustainability_mat = sustainability_mat.loc[:,  columns]\n",
    "world_sustainability_mat"
   ]
  },
  {
   "cell_type": "code",
   "execution_count": 10,
   "metadata": {},
   "outputs": [
    {
     "data": {
      "text/plain": [
       "array(['Afghanistan', 'Albania', 'Algeria', 'Angola',\n",
       "       'Antigua and Barbuda', 'Argentina', 'Armenia', 'Australia',\n",
       "       'Austria', 'Azerbaijan', 'Bahamas', 'Bahrain', 'Bangladesh',\n",
       "       'Barbados', 'Belarus', 'Belgium', 'Belize', 'Benin', 'Bhutan',\n",
       "       'Bosnia and Herzegovina', 'Botswana', 'Brazil', 'Bulgaria',\n",
       "       'Burkina Faso', 'Burundi', 'Cambodia', 'Cameroon', 'Canada',\n",
       "       'Central African Republic', 'Chad', 'Chile', 'China', 'Colombia',\n",
       "       'Comoros', 'Costa Rica', 'Croatia', 'Cuba', 'Cyprus', 'Denmark',\n",
       "       'Djibouti', 'Dominica', 'Dominican Republic', 'Ecuador', 'Egypt',\n",
       "       'El Salvador', 'Equatorial Guinea', 'Eritrea', 'Estonia',\n",
       "       'Ethiopia', 'Fiji', 'Finland', 'France', 'Gabon', 'Gambia',\n",
       "       'Georgia', 'Germany', 'Ghana', 'Greece', 'Grenada', 'Guatemala',\n",
       "       'Guinea', 'Guinea-Bissau', 'Guyana', 'Haiti', 'Honduras',\n",
       "       'Hungary', 'Iceland', 'India', 'Indonesia', 'Iraq', 'Ireland',\n",
       "       'Israel', 'Italy', 'Jamaica', 'Japan', 'Jordan', 'Kazakhstan',\n",
       "       'Kenya', 'Kiribati', 'Kuwait', 'Kyrgyzstan', 'Latvia', 'Lebanon',\n",
       "       'Lesotho', 'Liberia', 'Libya', 'Lithuania', 'Luxembourg',\n",
       "       'Madagascar', 'Malawi', 'Malaysia', 'Maldives', 'Mali', 'Malta',\n",
       "       'Marshall Islands', 'Mauritania', 'Mauritius', 'Mexico',\n",
       "       'Micronesia', 'Mongolia', 'Montenegro', 'Morocco', 'Mozambique',\n",
       "       'Myanmar', 'Namibia', 'Nepal', 'Netherlands', 'New Zealand',\n",
       "       'Nicaragua', 'Niger', 'Nigeria', 'Norway', 'Oman', 'Pakistan',\n",
       "       'Palau', 'Panama', 'Papua New Guinea', 'Paraguay', 'Peru',\n",
       "       'Philippines', 'Poland', 'Portugal', 'Qatar', 'Romania', 'Rwanda',\n",
       "       'Samoa', 'Sao Tome and Principe', 'Saudi Arabia', 'Senegal',\n",
       "       'Serbia', 'Seychelles', 'Sierra Leone', 'Singapore', 'Slovakia',\n",
       "       'Slovenia', 'Solomon Islands', 'Somalia', 'South Africa',\n",
       "       'South Sudan', 'Spain', 'Sri Lanka', 'Sudan', 'Suriname', 'Sweden',\n",
       "       'Switzerland', 'Tajikistan', 'Thailand', 'Timor-Leste', 'Togo',\n",
       "       'Tonga', 'Trinidad and Tobago', 'Tunisia', 'Turkey',\n",
       "       'Turkmenistan', 'Tuvalu', 'Uganda', 'Ukraine',\n",
       "       'United Arab Emirates', 'Uruguay', 'Uzbekistan', 'Vanuatu',\n",
       "       'Yemen', 'Zambia', 'Zimbabwe'], dtype=object)"
      ]
     },
     "execution_count": 10,
     "metadata": {},
     "output_type": "execute_result"
    }
   ],
   "source": [
    "world_sustainability_mat['name'].unique()\n"
   ]
  },
  {
   "cell_type": "code",
   "execution_count": null,
   "metadata": {},
   "outputs": [],
   "source": []
  },
  {
   "cell_type": "markdown",
   "metadata": {},
   "source": [
    "## Machine Learning SKlearn Linear Regression "
   ]
  },
  {
   "cell_type": "code",
   "execution_count": 12,
   "metadata": {},
   "outputs": [
    {
     "name": "stdout",
     "output_type": "stream",
     "text": [
      "Shape:  (1312, 3) (1312, 1)\n",
      "      year    HDI  Population\n",
      "0     2010  0.498   38928.346\n",
      "1     2011  0.498   38928.346\n",
      "2     2012  0.498   38928.346\n",
      "3     2013  0.498   38928.346\n",
      "4     2014  0.498   38928.346\n",
      "...    ...    ...         ...\n",
      "1307  2013  0.535   14862.924\n",
      "1308  2014  0.535   14862.924\n",
      "1309  2015  0.535   14862.924\n",
      "1310  2016  0.535   14862.924\n",
      "1311  2017  0.535   14862.924\n",
      "\n",
      "[1312 rows x 3 columns]\n",
      "           MCPC\n",
      "0     12.528861\n",
      "1     11.792660\n",
      "2     12.081480\n",
      "3     12.033060\n",
      "4     11.688480\n",
      "...         ...\n",
      "1307  19.213920\n",
      "1308  20.650940\n",
      "1309  19.497560\n",
      "1310  18.887940\n",
      "1311  18.316400\n",
      "\n",
      "[1312 rows x 1 columns]\n"
     ]
    }
   ],
   "source": [
    "# Assign the data to X and y and reshape data into array\n",
    "\n",
    "X = world_sustainability_mat[[\"year\", \"HDI\", \"Population\"]]\n",
    "y = world_sustainability_mat[[\"MCPC\"]]\n",
    "\n",
    "\n",
    "#y = whether or not met goal\n",
    "print(\"Shape: \", X.shape, y.shape)\n",
    "print(X)\n",
    "print(y)"
   ]
  },
  {
   "cell_type": "code",
   "execution_count": 13,
   "metadata": {},
   "outputs": [],
   "source": [
    "# Use sklearn's `train_test_split` to split the data between training and testing\n",
    "\n",
    "from sklearn.model_selection import train_test_split\n",
    "\n",
    "X_train, X_test, y_train, y_test = train_test_split(X, y, random_state=7)"
   ]
  },
  {
   "cell_type": "code",
   "execution_count": 14,
   "metadata": {},
   "outputs": [
    {
     "name": "stdout",
     "output_type": "stream",
     "text": [
      "Training Score: 0.3525047375312821\n",
      "Testing Score: 0.37476650281358814\n"
     ]
    }
   ],
   "source": [
    "# Use Linear Regression model\n",
    "from sklearn.linear_model import LinearRegression\n",
    "\n",
    "model = LinearRegression()\n",
    "\n",
    "# Fit model to training data\n",
    "\n",
    "model.fit(X_train, y_train)\n",
    "trainingScore = model.score(X_train, y_train)\n",
    "testingScore = model.score(X_test, y_test)\n",
    "\n",
    "print(f\"Training Score: {trainingScore}\")\n",
    "print(f\"Testing Score: {testingScore}\")"
   ]
  },
  {
   "cell_type": "code",
   "execution_count": 15,
   "metadata": {},
   "outputs": [
    {
     "data": {
      "text/plain": [
       "Text(0.5, 1.0, 'Residual Plot')"
      ]
     },
     "execution_count": 15,
     "metadata": {},
     "output_type": "execute_result"
    },
    {
     "data": {
      "image/png": "[encoded data removed]",
      "text/plain": [
       "<Figure size 432x288 with 1 Axes>"
      ]
     },
     "metadata": {
      "needs_background": "light"
     },
     "output_type": "display_data"
    }
   ],
   "source": [
    "# Plot the Residuals for the Training and Testing data\n",
    "\n",
    "plt.scatter(model.predict(X_train), model.predict(X_train) - y_train, c=\"yellow\", label=\"Training Data\")\n",
    "plt.scatter(model.predict(X_test), model.predict(X_test) - y_test, c=\"purple\", label=\"Testing Data\")\n",
    "plt.legend()\n",
    "plt.hlines(y=0, xmin=y.min(), xmax=y.max())\n",
    "plt.title(\"Residual Plot\")"
   ]
  },
  {
   "cell_type": "code",
   "execution_count": 16,
   "metadata": {},
   "outputs": [
    {
     "name": "stdout",
     "output_type": "stream",
     "text": [
      "MSE: 1564.7425629545828, R2: 0.37476650281358814\n"
     ]
    }
   ],
   "source": [
    "from sklearn.metrics import mean_squared_error\n",
    "\n",
    "predictions = model.predict(X_test)\n",
    "MSE = mean_squared_error(y_test, predictions)\n",
    "r2 = model.score(X_test, y_test)\n",
    "\n",
    "print(f\"MSE: {MSE}, R2: {r2}\")"
   ]
  },
  {
   "cell_type": "code",
   "execution_count": null,
   "metadata": {},
   "outputs": [],
   "source": []
  }
 ],
 "metadata": {
  "kernelspec": {
   "display_name": "Python 3",
   "language": "python",
   "name": "python3"
  },
  "language_info": {
   "codemirror_mode": {
    "name": "ipython",
    "version": 3
   },
   "file_extension": ".py",
   "mimetype": "text/x-python",
   "name": "python",
   "nbconvert_exporter": "python",
   "pygments_lexer": "ipython3",
   "version": "3.8.1"
  }
 },
 "nbformat": 4,
 "nbformat_minor": 2
}
