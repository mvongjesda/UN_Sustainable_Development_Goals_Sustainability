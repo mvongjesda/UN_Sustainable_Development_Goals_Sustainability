{
 "cells": [
  {
   "cell_type": "markdown",
   "metadata": {},
   "source": [
    "# Goal 12, Target 12.2 Sustainability Analysis"
   ]
  },
  {
   "cell_type": "markdown",
   "metadata": {},
   "source": [
    "Subset of the Sustainability_Analysis.ipynb that focuses on Target 12.2\n",
    "\n",
    "Goal 12, Target 12.2: By 2030, achieve the sustainable management and efficient use of natural resources. Using Material Consumption per Capita (tonnes). Data available from 2000 - 2017"
   ]
  },
  {
   "cell_type": "markdown",
   "metadata": {},
   "source": [
    "## Import Dependencies"
   ]
  },
  {
   "cell_type": "code",
   "execution_count": 1,
   "metadata": {},
   "outputs": [],
   "source": [
    "import numpy as np\n",
    "import pandas as pd\n",
    "import matplotlib.pyplot as plt\n",
    "import requests\n",
    "import seaborn as sns\n",
    "import os"
   ]
  },
  {
   "cell_type": "markdown",
   "metadata": {},
   "source": [
    "# Read in xlsx files related to UN's Goal of Sustainability\n",
    "\n",
    "Focus on per capita data in order to account for countries' differences in population."
   ]
  },
  {
   "cell_type": "code",
   "execution_count": 2,
   "metadata": {},
   "outputs": [
    {
     "data": {
      "text/html": [
       "<div>\n",
       "<style scoped>\n",
       "    .dataframe tbody tr th:only-of-type {\n",
       "        vertical-align: middle;\n",
       "    }\n",
       "\n",
       "    .dataframe tbody tr th {\n",
       "        vertical-align: top;\n",
       "    }\n",
       "\n",
       "    .dataframe thead th {\n",
       "        text-align: right;\n",
       "    }\n",
       "</style>\n",
       "<table border=\"1\" class=\"dataframe\">\n",
       "  <thead>\n",
       "    <tr style=\"text-align: right;\">\n",
       "      <th></th>\n",
       "      <th>Goal</th>\n",
       "      <th>Target</th>\n",
       "      <th>Indicator</th>\n",
       "      <th>SeriesCode</th>\n",
       "      <th>SeriesDescription</th>\n",
       "      <th>GeoAreaCode</th>\n",
       "      <th>GeoAreaName</th>\n",
       "      <th>Nature</th>\n",
       "      <th>Reporting Type</th>\n",
       "      <th>Type of product</th>\n",
       "      <th>...</th>\n",
       "      <th>2008</th>\n",
       "      <th>2009</th>\n",
       "      <th>2010</th>\n",
       "      <th>2011</th>\n",
       "      <th>2012</th>\n",
       "      <th>2013</th>\n",
       "      <th>2014</th>\n",
       "      <th>2015</th>\n",
       "      <th>2016</th>\n",
       "      <th>2017</th>\n",
       "    </tr>\n",
       "  </thead>\n",
       "  <tbody>\n",
       "    <tr>\n",
       "      <th>0</th>\n",
       "      <td>12</td>\n",
       "      <td>12.2</td>\n",
       "      <td>12.2.2</td>\n",
       "      <td>EN_MAT_DOMCMPC</td>\n",
       "      <td>Domestic material consumption per capita, by t...</td>\n",
       "      <td>4</td>\n",
       "      <td>Afghanistan</td>\n",
       "      <td>E</td>\n",
       "      <td>G</td>\n",
       "      <td>BIM</td>\n",
       "      <td>...</td>\n",
       "      <td>1.72341</td>\n",
       "      <td>1.97509</td>\n",
       "      <td>1.93652</td>\n",
       "      <td>1.82431</td>\n",
       "      <td>1.90564</td>\n",
       "      <td>1.83294</td>\n",
       "      <td>1.82012</td>\n",
       "      <td>1.80205</td>\n",
       "      <td>1.78902</td>\n",
       "      <td>1.77893</td>\n",
       "    </tr>\n",
       "    <tr>\n",
       "      <th>1</th>\n",
       "      <td>12</td>\n",
       "      <td>12.2</td>\n",
       "      <td>12.2.2</td>\n",
       "      <td>EN_MAT_DOMCMPC</td>\n",
       "      <td>Domestic material consumption per capita, by t...</td>\n",
       "      <td>4</td>\n",
       "      <td>Afghanistan</td>\n",
       "      <td>E</td>\n",
       "      <td>G</td>\n",
       "      <td>COL</td>\n",
       "      <td>...</td>\n",
       "      <td>0.01271</td>\n",
       "      <td>0.01785</td>\n",
       "      <td>0.02517</td>\n",
       "      <td>0.02440</td>\n",
       "      <td>0.02443</td>\n",
       "      <td>0.04246</td>\n",
       "      <td>0.04633</td>\n",
       "      <td>0.04798</td>\n",
       "      <td>0.04962</td>\n",
       "      <td>0.05124</td>\n",
       "    </tr>\n",
       "  </tbody>\n",
       "</table>\n",
       "<p>2 rows × 29 columns</p>\n",
       "</div>"
      ],
      "text/plain": [
       "   Goal  Target Indicator      SeriesCode  \\\n",
       "0    12    12.2    12.2.2  EN_MAT_DOMCMPC   \n",
       "1    12    12.2    12.2.2  EN_MAT_DOMCMPC   \n",
       "\n",
       "                                   SeriesDescription  GeoAreaCode  \\\n",
       "0  Domestic material consumption per capita, by t...            4   \n",
       "1  Domestic material consumption per capita, by t...            4   \n",
       "\n",
       "   GeoAreaName Nature Reporting Type Type of product  ...     2008     2009  \\\n",
       "0  Afghanistan      E              G             BIM  ...  1.72341  1.97509   \n",
       "1  Afghanistan      E              G             COL  ...  0.01271  0.01785   \n",
       "\n",
       "      2010     2011     2012     2013     2014     2015     2016     2017  \n",
       "0  1.93652  1.82431  1.90564  1.83294  1.82012  1.80205  1.78902  1.77893  \n",
       "1  0.02517  0.02440  0.02443  0.04246  0.04633  0.04798  0.04962  0.05124  \n",
       "\n",
       "[2 rows x 29 columns]"
      ]
     },
     "execution_count": 2,
     "metadata": {},
     "output_type": "execute_result"
    }
   ],
   "source": [
    "# 1st xlsx: electronic waste generated per capita (kg) \n",
    "# Goal 12, Target 12.4, Indicator 12.4.2\n",
    "mat_comp_pc = pd.read_excel('data/EN_MAT_DOMCMPC.xlsx')\n",
    "mat_comp_pc.head(2)"
   ]
  },
  {
   "cell_type": "code",
   "execution_count": 5,
   "metadata": {},
   "outputs": [
    {
     "data": {
      "text/html": [
       "<div>\n",
       "<style scoped>\n",
       "    .dataframe tbody tr th:only-of-type {\n",
       "        vertical-align: middle;\n",
       "    }\n",
       "\n",
       "    .dataframe tbody tr th {\n",
       "        vertical-align: top;\n",
       "    }\n",
       "\n",
       "    .dataframe thead th {\n",
       "        text-align: right;\n",
       "    }\n",
       "</style>\n",
       "<table border=\"1\" class=\"dataframe\">\n",
       "  <thead>\n",
       "    <tr style=\"text-align: right;\">\n",
       "      <th></th>\n",
       "      <th>GeoAreaName</th>\n",
       "      <th>Goal</th>\n",
       "      <th>Target</th>\n",
       "      <th>GeoAreaCode</th>\n",
       "      <th>2000</th>\n",
       "      <th>2001</th>\n",
       "      <th>2002</th>\n",
       "      <th>2003</th>\n",
       "      <th>2004</th>\n",
       "      <th>2005</th>\n",
       "      <th>...</th>\n",
       "      <th>2008</th>\n",
       "      <th>2009</th>\n",
       "      <th>2010</th>\n",
       "      <th>2011</th>\n",
       "      <th>2012</th>\n",
       "      <th>2013</th>\n",
       "      <th>2014</th>\n",
       "      <th>2015</th>\n",
       "      <th>2016</th>\n",
       "      <th>2017</th>\n",
       "    </tr>\n",
       "  </thead>\n",
       "  <tbody>\n",
       "    <tr>\n",
       "      <th>0</th>\n",
       "      <td>Afghanistan</td>\n",
       "      <td>320</td>\n",
       "      <td>329.6</td>\n",
       "      <td>128</td>\n",
       "      <td>13.78818</td>\n",
       "      <td>11.79274</td>\n",
       "      <td>12.45576</td>\n",
       "      <td>12.13908</td>\n",
       "      <td>11.79110</td>\n",
       "      <td>12.17936</td>\n",
       "      <td>...</td>\n",
       "      <td>10.67780</td>\n",
       "      <td>12.01448</td>\n",
       "      <td>12.528861</td>\n",
       "      <td>11.79266</td>\n",
       "      <td>12.08148</td>\n",
       "      <td>12.03306</td>\n",
       "      <td>11.68848</td>\n",
       "      <td>11.57904</td>\n",
       "      <td>11.50406</td>\n",
       "      <td>11.47316</td>\n",
       "    </tr>\n",
       "    <tr>\n",
       "      <th>1</th>\n",
       "      <td>Africa</td>\n",
       "      <td>340</td>\n",
       "      <td>350.2</td>\n",
       "      <td>68</td>\n",
       "      <td>24.57760</td>\n",
       "      <td>24.79296</td>\n",
       "      <td>25.09622</td>\n",
       "      <td>25.66054</td>\n",
       "      <td>25.42234</td>\n",
       "      <td>26.26742</td>\n",
       "      <td>...</td>\n",
       "      <td>31.33112</td>\n",
       "      <td>30.06368</td>\n",
       "      <td>30.591900</td>\n",
       "      <td>28.15918</td>\n",
       "      <td>28.38872</td>\n",
       "      <td>29.24514</td>\n",
       "      <td>30.15700</td>\n",
       "      <td>27.67922</td>\n",
       "      <td>27.90996</td>\n",
       "      <td>28.19424</td>\n",
       "    </tr>\n",
       "  </tbody>\n",
       "</table>\n",
       "<p>2 rows × 22 columns</p>\n",
       "</div>"
      ],
      "text/plain": [
       "   GeoAreaName  Goal  Target  GeoAreaCode      2000      2001      2002  \\\n",
       "0  Afghanistan   320   329.6          128  13.78818  11.79274  12.45576   \n",
       "1       Africa   340   350.2           68  24.57760  24.79296  25.09622   \n",
       "\n",
       "       2003      2004      2005  ...      2008      2009       2010      2011  \\\n",
       "0  12.13908  11.79110  12.17936  ...  10.67780  12.01448  12.528861  11.79266   \n",
       "1  25.66054  25.42234  26.26742  ...  31.33112  30.06368  30.591900  28.15918   \n",
       "\n",
       "       2012      2013      2014      2015      2016      2017  \n",
       "0  12.08148  12.03306  11.68848  11.57904  11.50406  11.47316  \n",
       "1  28.38872  29.24514  30.15700  27.67922  27.90996  28.19424  \n",
       "\n",
       "[2 rows x 22 columns]"
      ]
     },
     "execution_count": 5,
     "metadata": {},
     "output_type": "execute_result"
    }
   ],
   "source": [
    "mat_comp_pc = mat_comp_pc.groupby(['GeoAreaName']).sum().reset_index()\n",
    "mat_comp_pc.head(2)"
   ]
  },
  {
   "cell_type": "code",
   "execution_count": 7,
   "metadata": {},
   "outputs": [
    {
     "data": {
      "text/html": [
       "<div>\n",
       "<style scoped>\n",
       "    .dataframe tbody tr th:only-of-type {\n",
       "        vertical-align: middle;\n",
       "    }\n",
       "\n",
       "    .dataframe tbody tr th {\n",
       "        vertical-align: top;\n",
       "    }\n",
       "\n",
       "    .dataframe thead th {\n",
       "        text-align: right;\n",
       "    }\n",
       "</style>\n",
       "<table border=\"1\" class=\"dataframe\">\n",
       "  <thead>\n",
       "    <tr style=\"text-align: right;\">\n",
       "      <th></th>\n",
       "      <th>GeoAreaName</th>\n",
       "      <th>year</th>\n",
       "      <th>value</th>\n",
       "    </tr>\n",
       "  </thead>\n",
       "  <tbody>\n",
       "    <tr>\n",
       "      <th>0</th>\n",
       "      <td>Afghanistan</td>\n",
       "      <td>2010</td>\n",
       "      <td>12.528861</td>\n",
       "    </tr>\n",
       "    <tr>\n",
       "      <th>1</th>\n",
       "      <td>Africa</td>\n",
       "      <td>2010</td>\n",
       "      <td>30.591900</td>\n",
       "    </tr>\n",
       "  </tbody>\n",
       "</table>\n",
       "</div>"
      ],
      "text/plain": [
       "   GeoAreaName  year      value\n",
       "0  Afghanistan  2010  12.528861\n",
       "1       Africa  2010  30.591900"
      ]
     },
     "execution_count": 7,
     "metadata": {},
     "output_type": "execute_result"
    }
   ],
   "source": [
    "mat_comp_pc = mat_comp_pc[[\"GeoAreaName\", \"2010\", \"2011\", \"2012\", \"2013\", \n",
    "                         \"2014\", \"2015\", \"2016\", \"2017\"]]\n",
    "\n",
    "melted_mat_comp_pc = pd.melt(mat_comp_pc, id_vars=['GeoAreaName'], var_name='year')\n",
    "melted_mat_comp_pc.head(2)"
   ]
  },
  {
   "cell_type": "code",
   "execution_count": 8,
   "metadata": {},
   "outputs": [],
   "source": [
    "melted_mat_comp_pc.rename(columns={'SeriesDescription':'Description','GeoAreaName':'name',\n",
    "                                   '2010':'2010','2011':'2011','2013':'2013',\n",
    "                                   '2014':'2014','2015':'2015','2016':'2016',\n",
    "                                   '2017':'2017'}, inplace=True)"
   ]
  },
  {
   "cell_type": "code",
   "execution_count": 9,
   "metadata": {},
   "outputs": [],
   "source": [
    "#Write to csv file\n",
    "melted_mat_comp_pc.to_csv(\"data/melted_consumption.csv\", encoding=\"utf-8\", index=False)"
   ]
  },
  {
   "cell_type": "code",
   "execution_count": 10,
   "metadata": {
    "scrolled": false
   },
   "outputs": [
    {
     "data": {
      "text/html": [
       "<div>\n",
       "<style scoped>\n",
       "    .dataframe tbody tr th:only-of-type {\n",
       "        vertical-align: middle;\n",
       "    }\n",
       "\n",
       "    .dataframe tbody tr th {\n",
       "        vertical-align: top;\n",
       "    }\n",
       "\n",
       "    .dataframe thead th {\n",
       "        text-align: right;\n",
       "    }\n",
       "</style>\n",
       "<table border=\"1\" class=\"dataframe\">\n",
       "  <thead>\n",
       "    <tr style=\"text-align: right;\">\n",
       "      <th></th>\n",
       "      <th>name</th>\n",
       "      <th>humanDevelopmentIndex</th>\n",
       "      <th>pop2020</th>\n",
       "    </tr>\n",
       "  </thead>\n",
       "  <tbody>\n",
       "    <tr>\n",
       "      <th>0</th>\n",
       "      <td>Norway</td>\n",
       "      <td>0.953</td>\n",
       "      <td>5421.241</td>\n",
       "    </tr>\n",
       "    <tr>\n",
       "      <th>1</th>\n",
       "      <td>Switzerland</td>\n",
       "      <td>0.944</td>\n",
       "      <td>8654.622</td>\n",
       "    </tr>\n",
       "  </tbody>\n",
       "</table>\n",
       "</div>"
      ],
      "text/plain": [
       "          name  humanDevelopmentIndex   pop2020\n",
       "0       Norway                  0.953  5421.241\n",
       "1  Switzerland                  0.944  8654.622"
      ]
     },
     "execution_count": 10,
     "metadata": {},
     "output_type": "execute_result"
    }
   ],
   "source": [
    "hdi_df = pd.read_csv('data/HDI_data.csv')\n",
    "hdi_df.head(2)"
   ]
  },
  {
   "cell_type": "code",
   "execution_count": 11,
   "metadata": {
    "scrolled": true
   },
   "outputs": [
    {
     "data": {
      "text/html": [
       "<div>\n",
       "<style scoped>\n",
       "    .dataframe tbody tr th:only-of-type {\n",
       "        vertical-align: middle;\n",
       "    }\n",
       "\n",
       "    .dataframe tbody tr th {\n",
       "        vertical-align: top;\n",
       "    }\n",
       "\n",
       "    .dataframe thead th {\n",
       "        text-align: right;\n",
       "    }\n",
       "</style>\n",
       "<table border=\"1\" class=\"dataframe\">\n",
       "  <thead>\n",
       "    <tr style=\"text-align: right;\">\n",
       "      <th></th>\n",
       "      <th>name</th>\n",
       "      <th>year</th>\n",
       "      <th>value</th>\n",
       "      <th>humanDevelopmentIndex</th>\n",
       "      <th>pop2020</th>\n",
       "    </tr>\n",
       "  </thead>\n",
       "  <tbody>\n",
       "    <tr>\n",
       "      <th>0</th>\n",
       "      <td>Afghanistan</td>\n",
       "      <td>2010</td>\n",
       "      <td>12.528861</td>\n",
       "      <td>0.498</td>\n",
       "      <td>38928.346</td>\n",
       "    </tr>\n",
       "    <tr>\n",
       "      <th>1</th>\n",
       "      <td>Afghanistan</td>\n",
       "      <td>2011</td>\n",
       "      <td>11.792660</td>\n",
       "      <td>0.498</td>\n",
       "      <td>38928.346</td>\n",
       "    </tr>\n",
       "    <tr>\n",
       "      <th>2</th>\n",
       "      <td>Afghanistan</td>\n",
       "      <td>2012</td>\n",
       "      <td>12.081480</td>\n",
       "      <td>0.498</td>\n",
       "      <td>38928.346</td>\n",
       "    </tr>\n",
       "    <tr>\n",
       "      <th>3</th>\n",
       "      <td>Afghanistan</td>\n",
       "      <td>2013</td>\n",
       "      <td>12.033060</td>\n",
       "      <td>0.498</td>\n",
       "      <td>38928.346</td>\n",
       "    </tr>\n",
       "    <tr>\n",
       "      <th>4</th>\n",
       "      <td>Afghanistan</td>\n",
       "      <td>2014</td>\n",
       "      <td>11.688480</td>\n",
       "      <td>0.498</td>\n",
       "      <td>38928.346</td>\n",
       "    </tr>\n",
       "  </tbody>\n",
       "</table>\n",
       "</div>"
      ],
      "text/plain": [
       "          name  year      value  humanDevelopmentIndex    pop2020\n",
       "0  Afghanistan  2010  12.528861                  0.498  38928.346\n",
       "1  Afghanistan  2011  11.792660                  0.498  38928.346\n",
       "2  Afghanistan  2012  12.081480                  0.498  38928.346\n",
       "3  Afghanistan  2013  12.033060                  0.498  38928.346\n",
       "4  Afghanistan  2014  11.688480                  0.498  38928.346"
      ]
     },
     "execution_count": 11,
     "metadata": {},
     "output_type": "execute_result"
    }
   ],
   "source": [
    "merged_consumption_hdi = pd.merge(melted_mat_comp_pc, hdi_df, on=[\"name\"])\n",
    "merged_consumption_hdi.head()"
   ]
  },
  {
   "cell_type": "code",
   "execution_count": 12,
   "metadata": {},
   "outputs": [
    {
     "data": {
      "text/html": [
       "<div>\n",
       "<style scoped>\n",
       "    .dataframe tbody tr th:only-of-type {\n",
       "        vertical-align: middle;\n",
       "    }\n",
       "\n",
       "    .dataframe tbody tr th {\n",
       "        vertical-align: top;\n",
       "    }\n",
       "\n",
       "    .dataframe thead th {\n",
       "        text-align: right;\n",
       "    }\n",
       "</style>\n",
       "<table border=\"1\" class=\"dataframe\">\n",
       "  <thead>\n",
       "    <tr style=\"text-align: right;\">\n",
       "      <th></th>\n",
       "      <th>name</th>\n",
       "      <th>year</th>\n",
       "      <th>MCPC</th>\n",
       "      <th>HDI</th>\n",
       "      <th>Population</th>\n",
       "    </tr>\n",
       "  </thead>\n",
       "  <tbody>\n",
       "    <tr>\n",
       "      <th>0</th>\n",
       "      <td>Afghanistan</td>\n",
       "      <td>2010</td>\n",
       "      <td>12.528861</td>\n",
       "      <td>0.498</td>\n",
       "      <td>38928.346</td>\n",
       "    </tr>\n",
       "    <tr>\n",
       "      <th>1</th>\n",
       "      <td>Afghanistan</td>\n",
       "      <td>2011</td>\n",
       "      <td>11.792660</td>\n",
       "      <td>0.498</td>\n",
       "      <td>38928.346</td>\n",
       "    </tr>\n",
       "  </tbody>\n",
       "</table>\n",
       "</div>"
      ],
      "text/plain": [
       "          name  year       MCPC    HDI  Population\n",
       "0  Afghanistan  2010  12.528861  0.498   38928.346\n",
       "1  Afghanistan  2011  11.792660  0.498   38928.346"
      ]
     },
     "execution_count": 12,
     "metadata": {},
     "output_type": "execute_result"
    }
   ],
   "source": [
    "merged_consumption_hdi = merged_consumption_hdi.rename(columns={\"value\": \"MCPC\",\"humanDevelopmentIndex\": \"HDI\", \"pop2020\": \"Population\"})\n",
    "merged_consumption_hdi.head(2)"
   ]
  },
  {
   "cell_type": "code",
   "execution_count": 13,
   "metadata": {},
   "outputs": [
    {
     "data": {
      "text/html": [
       "<div>\n",
       "<style scoped>\n",
       "    .dataframe tbody tr th:only-of-type {\n",
       "        vertical-align: middle;\n",
       "    }\n",
       "\n",
       "    .dataframe tbody tr th {\n",
       "        vertical-align: top;\n",
       "    }\n",
       "\n",
       "    .dataframe thead th {\n",
       "        text-align: right;\n",
       "    }\n",
       "</style>\n",
       "<table border=\"1\" class=\"dataframe\">\n",
       "  <thead>\n",
       "    <tr style=\"text-align: right;\">\n",
       "      <th></th>\n",
       "      <th>name</th>\n",
       "      <th>year</th>\n",
       "      <th>HDI</th>\n",
       "      <th>Population</th>\n",
       "      <th>MCPC</th>\n",
       "    </tr>\n",
       "  </thead>\n",
       "  <tbody>\n",
       "    <tr>\n",
       "      <th>0</th>\n",
       "      <td>Afghanistan</td>\n",
       "      <td>2010</td>\n",
       "      <td>0.498</td>\n",
       "      <td>38928.346</td>\n",
       "      <td>12.528861</td>\n",
       "    </tr>\n",
       "    <tr>\n",
       "      <th>1</th>\n",
       "      <td>Afghanistan</td>\n",
       "      <td>2011</td>\n",
       "      <td>0.498</td>\n",
       "      <td>38928.346</td>\n",
       "      <td>11.792660</td>\n",
       "    </tr>\n",
       "  </tbody>\n",
       "</table>\n",
       "</div>"
      ],
      "text/plain": [
       "          name  year    HDI  Population       MCPC\n",
       "0  Afghanistan  2010  0.498   38928.346  12.528861\n",
       "1  Afghanistan  2011  0.498   38928.346  11.792660"
      ]
     },
     "execution_count": 13,
     "metadata": {},
     "output_type": "execute_result"
    }
   ],
   "source": [
    "merged_consumption_hdi = merged_consumption_hdi[[\"name\", \"year\", \"HDI\", \"Population\", \"MCPC\" ]]\n",
    "merged_consumption_hdi.head(2)"
   ]
  },
  {
   "cell_type": "code",
   "execution_count": 14,
   "metadata": {},
   "outputs": [],
   "source": [
    "# Write to csv file\n",
    "merged_consumption_hdi.to_csv(\"data/merged_consumption_hdi.csv\", encoding=\"utf-8\", index=False)"
   ]
  },
  {
   "cell_type": "code",
   "execution_count": null,
   "metadata": {},
   "outputs": [],
   "source": []
  }
 ],
 "metadata": {
  "kernelspec": {
   "display_name": "Python 3",
   "language": "python",
   "name": "python3"
  },
  "language_info": {
   "codemirror_mode": {
    "name": "ipython",
    "version": 3
   },
   "file_extension": ".py",
   "mimetype": "text/x-python",
   "name": "python",
   "nbconvert_exporter": "python",
   "pygments_lexer": "ipython3",
   "version": "3.8.1"
  }
 },
 "nbformat": 4,
 "nbformat_minor": 2
}
