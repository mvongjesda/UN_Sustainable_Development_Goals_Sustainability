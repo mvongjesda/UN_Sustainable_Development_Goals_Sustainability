{
 "cells": [
  {
   "cell_type": "markdown",
   "metadata": {},
   "source": [
    "# Part II: Machine Learning Analysis \n",
    "\n",
    "This is the continuation of \"Sustainability_Analysis.ipynb\" where the data from the UN's Global Sustainable Development Goals website was cleaned and merged into the csv file below.\n",
    "\n",
    "Country development ranking determined by the Human Development Index for 2020 was downloaded as a csv file and referenced here: https://worldpopulationreview.com/countries/developed-countries/"
   ]
  },
  {
   "cell_type": "code",
   "execution_count": 1,
   "metadata": {},
   "outputs": [],
   "source": [
    "# Import dependencies\n",
    "%matplotlib inline\n",
    "import matplotlib.pyplot as plt\n",
    "import numpy as np\n",
    "import warnings\n",
    "warnings.simplefilter(action='ignore', category=FutureWarning)\n",
    "import pandas as pd\n",
    "from scipy import stats"
   ]
  },
  {
   "cell_type": "code",
   "execution_count": 2,
   "metadata": {},
   "outputs": [
    {
     "data": {
      "text/html": [
       "<div>\n",
       "<style scoped>\n",
       "    .dataframe tbody tr th:only-of-type {\n",
       "        vertical-align: middle;\n",
       "    }\n",
       "\n",
       "    .dataframe tbody tr th {\n",
       "        vertical-align: top;\n",
       "    }\n",
       "\n",
       "    .dataframe thead th {\n",
       "        text-align: right;\n",
       "    }\n",
       "</style>\n",
       "<table border=\"1\" class=\"dataframe\">\n",
       "  <thead>\n",
       "    <tr style=\"text-align: right;\">\n",
       "      <th></th>\n",
       "      <th>name</th>\n",
       "      <th>TimePeriod</th>\n",
       "      <th>HDI</th>\n",
       "      <th>Population</th>\n",
       "      <th>Electronic Waste Recycling, per capita (Kg)</th>\n",
       "      <th>Electronic Waste Generated, per capita (Kg)</th>\n",
       "    </tr>\n",
       "  </thead>\n",
       "  <tbody>\n",
       "    <tr>\n",
       "      <td>0</td>\n",
       "      <td>Albania</td>\n",
       "      <td>2010</td>\n",
       "      <td>0.785</td>\n",
       "      <td>2877.797</td>\n",
       "      <td>NaN</td>\n",
       "      <td>4.391893</td>\n",
       "    </tr>\n",
       "    <tr>\n",
       "      <td>1</td>\n",
       "      <td>Albania</td>\n",
       "      <td>2011</td>\n",
       "      <td>0.785</td>\n",
       "      <td>2877.797</td>\n",
       "      <td>NaN</td>\n",
       "      <td>4.857921</td>\n",
       "    </tr>\n",
       "    <tr>\n",
       "      <td>2</td>\n",
       "      <td>Albania</td>\n",
       "      <td>2012</td>\n",
       "      <td>0.785</td>\n",
       "      <td>2877.797</td>\n",
       "      <td>NaN</td>\n",
       "      <td>5.310308</td>\n",
       "    </tr>\n",
       "    <tr>\n",
       "      <td>3</td>\n",
       "      <td>Albania</td>\n",
       "      <td>2013</td>\n",
       "      <td>0.785</td>\n",
       "      <td>2877.797</td>\n",
       "      <td>3.237495</td>\n",
       "      <td>5.740930</td>\n",
       "    </tr>\n",
       "    <tr>\n",
       "      <td>4</td>\n",
       "      <td>Albania</td>\n",
       "      <td>2014</td>\n",
       "      <td>0.785</td>\n",
       "      <td>2877.797</td>\n",
       "      <td>4.242644</td>\n",
       "      <td>6.112550</td>\n",
       "    </tr>\n",
       "  </tbody>\n",
       "</table>\n",
       "</div>"
      ],
      "text/plain": [
       "      name  TimePeriod    HDI  Population  \\\n",
       "0  Albania        2010  0.785    2877.797   \n",
       "1  Albania        2011  0.785    2877.797   \n",
       "2  Albania        2012  0.785    2877.797   \n",
       "3  Albania        2013  0.785    2877.797   \n",
       "4  Albania        2014  0.785    2877.797   \n",
       "\n",
       "   Electronic Waste Recycling, per capita (Kg)  \\\n",
       "0                                          NaN   \n",
       "1                                          NaN   \n",
       "2                                          NaN   \n",
       "3                                     3.237495   \n",
       "4                                     4.242644   \n",
       "\n",
       "   Electronic Waste Generated, per capita (Kg)  \n",
       "0                                     4.391893  \n",
       "1                                     4.857921  \n",
       "2                                     5.310308  \n",
       "3                                     5.740930  \n",
       "4                                     6.112550  "
      ]
     },
     "execution_count": 2,
     "metadata": {},
     "output_type": "execute_result"
    }
   ],
   "source": [
    "# Read in the csv file\n",
    "sustainability = pd.read_csv('data/merged_electronic_hdi.csv')\n",
    "sustainability.head()"
   ]
  },
  {
   "cell_type": "code",
   "execution_count": 3,
   "metadata": {
    "scrolled": true
   },
   "outputs": [
    {
     "name": "stdout",
     "output_type": "stream",
     "text": [
      "<class 'pandas.core.frame.DataFrame'>\n",
      "RangeIndex: 620 entries, 0 to 619\n",
      "Data columns (total 6 columns):\n",
      "name                                           620 non-null object\n",
      "TimePeriod                                     620 non-null int64\n",
      "HDI                                            620 non-null float64\n",
      "Population                                     620 non-null float64\n",
      "Electronic Waste Recycling, per capita (Kg)    486 non-null float64\n",
      "Electronic Waste Generated, per capita (Kg)    620 non-null float64\n",
      "dtypes: float64(4), int64(1), object(1)\n",
      "memory usage: 29.2+ KB\n",
      "None\n"
     ]
    }
   ],
   "source": [
    "# Drop null values\n",
    "print(sustainability.info())\n",
    "sustainability = sustainability.dropna()"
   ]
  },
  {
   "cell_type": "code",
   "execution_count": 4,
   "metadata": {
    "scrolled": true
   },
   "outputs": [
    {
     "name": "stdout",
     "output_type": "stream",
     "text": [
      "<class 'pandas.core.frame.DataFrame'>\n",
      "Int64Index: 486 entries, 3 to 619\n",
      "Data columns (total 6 columns):\n",
      "name                                           486 non-null object\n",
      "TimePeriod                                     486 non-null int64\n",
      "HDI                                            486 non-null float64\n",
      "Population                                     486 non-null float64\n",
      "Electronic Waste Recycling, per capita (Kg)    486 non-null float64\n",
      "Electronic Waste Generated, per capita (Kg)    486 non-null float64\n",
      "dtypes: float64(4), int64(1), object(1)\n",
      "memory usage: 26.6+ KB\n",
      "None\n"
     ]
    }
   ],
   "source": [
    "# Cleaned dataset has 486 rows and 6 columns\n",
    "print(sustainability.info())"
   ]
  },
  {
   "cell_type": "markdown",
   "metadata": {},
   "source": [
    "### Global data"
   ]
  },
  {
   "cell_type": "code",
   "execution_count": 5,
   "metadata": {
    "collapsed": true
   },
   "outputs": [
    {
     "data": {
      "text/html": [
       "<div>\n",
       "<style scoped>\n",
       "    .dataframe tbody tr th:only-of-type {\n",
       "        vertical-align: middle;\n",
       "    }\n",
       "\n",
       "    .dataframe tbody tr th {\n",
       "        vertical-align: top;\n",
       "    }\n",
       "\n",
       "    .dataframe thead th {\n",
       "        text-align: right;\n",
       "    }\n",
       "</style>\n",
       "<table border=\"1\" class=\"dataframe\">\n",
       "  <thead>\n",
       "    <tr style=\"text-align: right;\">\n",
       "      <th></th>\n",
       "      <th>name</th>\n",
       "      <th>HDI</th>\n",
       "      <th>Population</th>\n",
       "      <th>TimePeriod</th>\n",
       "      <th>Electronic Waste Recycling, per capita (Kg)</th>\n",
       "      <th>Electronic Waste Generated, per capita (Kg)</th>\n",
       "    </tr>\n",
       "  </thead>\n",
       "  <tbody>\n",
       "    <tr>\n",
       "      <td>3</td>\n",
       "      <td>Albania</td>\n",
       "      <td>0.785</td>\n",
       "      <td>2877.797</td>\n",
       "      <td>2013</td>\n",
       "      <td>3.237495</td>\n",
       "      <td>5.740930</td>\n",
       "    </tr>\n",
       "    <tr>\n",
       "      <td>4</td>\n",
       "      <td>Albania</td>\n",
       "      <td>0.785</td>\n",
       "      <td>2877.797</td>\n",
       "      <td>2014</td>\n",
       "      <td>4.242644</td>\n",
       "      <td>6.112550</td>\n",
       "    </tr>\n",
       "    <tr>\n",
       "      <td>5</td>\n",
       "      <td>Albania</td>\n",
       "      <td>0.785</td>\n",
       "      <td>2877.797</td>\n",
       "      <td>2015</td>\n",
       "      <td>4.889079</td>\n",
       "      <td>6.451386</td>\n",
       "    </tr>\n",
       "    <tr>\n",
       "      <td>6</td>\n",
       "      <td>Albania</td>\n",
       "      <td>0.785</td>\n",
       "      <td>2877.797</td>\n",
       "      <td>2016</td>\n",
       "      <td>5.103762</td>\n",
       "      <td>6.736817</td>\n",
       "    </tr>\n",
       "    <tr>\n",
       "      <td>7</td>\n",
       "      <td>Albania</td>\n",
       "      <td>0.785</td>\n",
       "      <td>2877.797</td>\n",
       "      <td>2017</td>\n",
       "      <td>5.303011</td>\n",
       "      <td>6.994344</td>\n",
       "    </tr>\n",
       "    <tr>\n",
       "      <td>...</td>\n",
       "      <td>...</td>\n",
       "      <td>...</td>\n",
       "      <td>...</td>\n",
       "      <td>...</td>\n",
       "      <td>...</td>\n",
       "      <td>...</td>\n",
       "    </tr>\n",
       "    <tr>\n",
       "      <td>608</td>\n",
       "      <td>Ukraine</td>\n",
       "      <td>0.751</td>\n",
       "      <td>43733.762</td>\n",
       "      <td>2018</td>\n",
       "      <td>0.889866</td>\n",
       "      <td>7.588038</td>\n",
       "    </tr>\n",
       "    <tr>\n",
       "      <td>609</td>\n",
       "      <td>Ukraine</td>\n",
       "      <td>0.751</td>\n",
       "      <td>43733.762</td>\n",
       "      <td>2019</td>\n",
       "      <td>0.909222</td>\n",
       "      <td>7.739957</td>\n",
       "    </tr>\n",
       "    <tr>\n",
       "      <td>617</td>\n",
       "      <td>Zimbabwe</td>\n",
       "      <td>0.535</td>\n",
       "      <td>14862.924</td>\n",
       "      <td>2017</td>\n",
       "      <td>0.002107</td>\n",
       "      <td>1.077279</td>\n",
       "    </tr>\n",
       "    <tr>\n",
       "      <td>618</td>\n",
       "      <td>Zimbabwe</td>\n",
       "      <td>0.535</td>\n",
       "      <td>14862.924</td>\n",
       "      <td>2018</td>\n",
       "      <td>0.002024</td>\n",
       "      <td>1.081951</td>\n",
       "    </tr>\n",
       "    <tr>\n",
       "      <td>619</td>\n",
       "      <td>Zimbabwe</td>\n",
       "      <td>0.535</td>\n",
       "      <td>14862.924</td>\n",
       "      <td>2019</td>\n",
       "      <td>0.002048</td>\n",
       "      <td>1.082455</td>\n",
       "    </tr>\n",
       "  </tbody>\n",
       "</table>\n",
       "<p>486 rows × 6 columns</p>\n",
       "</div>"
      ],
      "text/plain": [
       "         name    HDI  Population  TimePeriod  \\\n",
       "3     Albania  0.785    2877.797        2013   \n",
       "4     Albania  0.785    2877.797        2014   \n",
       "5     Albania  0.785    2877.797        2015   \n",
       "6     Albania  0.785    2877.797        2016   \n",
       "7     Albania  0.785    2877.797        2017   \n",
       "..        ...    ...         ...         ...   \n",
       "608   Ukraine  0.751   43733.762        2018   \n",
       "609   Ukraine  0.751   43733.762        2019   \n",
       "617  Zimbabwe  0.535   14862.924        2017   \n",
       "618  Zimbabwe  0.535   14862.924        2018   \n",
       "619  Zimbabwe  0.535   14862.924        2019   \n",
       "\n",
       "     Electronic Waste Recycling, per capita (Kg)  \\\n",
       "3                                       3.237495   \n",
       "4                                       4.242644   \n",
       "5                                       4.889079   \n",
       "6                                       5.103762   \n",
       "7                                       5.303011   \n",
       "..                                           ...   \n",
       "608                                     0.889866   \n",
       "609                                     0.909222   \n",
       "617                                     0.002107   \n",
       "618                                     0.002024   \n",
       "619                                     0.002048   \n",
       "\n",
       "     Electronic Waste Generated, per capita (Kg)  \n",
       "3                                       5.740930  \n",
       "4                                       6.112550  \n",
       "5                                       6.451386  \n",
       "6                                       6.736817  \n",
       "7                                       6.994344  \n",
       "..                                           ...  \n",
       "608                                     7.588038  \n",
       "609                                     7.739957  \n",
       "617                                     1.077279  \n",
       "618                                     1.081951  \n",
       "619                                     1.082455  \n",
       "\n",
       "[486 rows x 6 columns]"
      ]
     },
     "execution_count": 5,
     "metadata": {},
     "output_type": "execute_result"
    }
   ],
   "source": [
    "# Create a list of the columns\n",
    "\n",
    "columns = ['name','HDI', 'Population','TimePeriod', 'Electronic Waste Recycling, per capita (Kg)', 'Electronic Waste Generated, per capita (Kg)']\n",
    "\n",
    "#  Create a new df for the countries of interest with the columns. \n",
    "world_sustainability = sustainability.loc[:,  columns]\n",
    "world_sustainability"
   ]
  },
  {
   "cell_type": "code",
   "execution_count": 6,
   "metadata": {},
   "outputs": [
    {
     "data": {
      "text/plain": [
       "array(['Albania', 'Antigua and Barbuda', 'Argentina', 'Armenia',\n",
       "       'Australia', 'Austria', 'Belarus', 'Belgium',\n",
       "       'Bosnia and Herzegovina', 'Brazil', 'Bulgaria', 'Cameroon',\n",
       "       'Canada', 'Chile', 'China', 'Colombia', 'Croatia', 'Cyprus',\n",
       "       'Denmark', 'Ecuador', 'El Salvador', 'Estonia', 'Finland',\n",
       "       'France', 'Germany', 'Greece', 'Honduras', 'Hungary', 'Iceland',\n",
       "       'India', 'Ireland', 'Italy', 'Jamaica', 'Japan', 'Jordan',\n",
       "       'Kazakhstan', 'Latvia', 'Lithuania', 'Luxembourg', 'Malta',\n",
       "       'Mauritius', 'Mexico', 'Namibia', 'Netherlands', 'Norway', 'Peru',\n",
       "       'Poland', 'Portugal', 'Romania', 'Rwanda', 'Saint Lucia', 'Serbia',\n",
       "       'Slovakia', 'Slovenia', 'South Africa', 'Spain', 'Sweden',\n",
       "       'Switzerland', 'Turkey', 'Uganda', 'Ukraine', 'Zimbabwe'],\n",
       "      dtype=object)"
      ]
     },
     "execution_count": 6,
     "metadata": {},
     "output_type": "execute_result"
    }
   ],
   "source": [
    "world_sustainability['name'].unique()\n"
   ]
  },
  {
   "cell_type": "code",
   "execution_count": null,
   "metadata": {},
   "outputs": [],
   "source": []
  },
  {
   "cell_type": "markdown",
   "metadata": {},
   "source": [
    "## Machine Learning SKlearn Linear Regression "
   ]
  },
  {
   "cell_type": "code",
   "execution_count": 9,
   "metadata": {},
   "outputs": [
    {
     "name": "stdout",
     "output_type": "stream",
     "text": [
      "Shape:  (486, 3) (486, 2)\n",
      "     TimePeriod    HDI  Population\n",
      "3          2013  0.785    2877.797\n",
      "4          2014  0.785    2877.797\n",
      "5          2015  0.785    2877.797\n",
      "6          2016  0.785    2877.797\n",
      "7          2017  0.785    2877.797\n",
      "..          ...    ...         ...\n",
      "608        2018  0.751   43733.762\n",
      "609        2019  0.751   43733.762\n",
      "617        2017  0.535   14862.924\n",
      "618        2018  0.535   14862.924\n",
      "619        2019  0.535   14862.924\n",
      "\n",
      "[486 rows x 3 columns]\n",
      "     Electronic Waste Recycling, per capita (Kg)  \\\n",
      "3                                       3.237495   \n",
      "4                                       4.242644   \n",
      "5                                       4.889079   \n",
      "6                                       5.103762   \n",
      "7                                       5.303011   \n",
      "..                                           ...   \n",
      "608                                     0.889866   \n",
      "609                                     0.909222   \n",
      "617                                     0.002107   \n",
      "618                                     0.002024   \n",
      "619                                     0.002048   \n",
      "\n",
      "     Electronic Waste Generated, per capita (Kg)  \n",
      "3                                       5.740930  \n",
      "4                                       6.112550  \n",
      "5                                       6.451386  \n",
      "6                                       6.736817  \n",
      "7                                       6.994344  \n",
      "..                                           ...  \n",
      "608                                     7.588038  \n",
      "609                                     7.739957  \n",
      "617                                     1.077279  \n",
      "618                                     1.081951  \n",
      "619                                     1.082455  \n",
      "\n",
      "[486 rows x 2 columns]\n"
     ]
    }
   ],
   "source": [
    "# Assign the data to X and y and reshape data into array\n",
    "\n",
    "X = world_sustainability[[\"TimePeriod\", \"HDI\", \"Population\"]]\n",
    "y = world_sustainability[[\"Electronic Waste Recycling, per capita (Kg)\", \"Electronic Waste Generated, per capita (Kg)\"]]\n",
    "\n",
    "\n",
    "#y = whether or not met goal\n",
    "print(\"Shape: \", X.shape, y.shape)\n",
    "print(X)\n",
    "print(y)"
   ]
  },
  {
   "cell_type": "code",
   "execution_count": 10,
   "metadata": {},
   "outputs": [],
   "source": [
    "# Use sklearn's `train_test_split` to split the data between training and testing\n",
    "\n",
    "from sklearn.model_selection import train_test_split\n",
    "\n",
    "X_train, X_test, y_train, y_test = train_test_split(X, y, random_state=7)"
   ]
  },
  {
   "cell_type": "code",
   "execution_count": 11,
   "metadata": {},
   "outputs": [
    {
     "name": "stdout",
     "output_type": "stream",
     "text": [
      "Training Score: 0.6855265705500035\n",
      "Testing Score: 0.6080105617528113\n"
     ]
    }
   ],
   "source": [
    "# Use Linear Regression model\n",
    "from sklearn.linear_model import LinearRegression\n",
    "\n",
    "model = LinearRegression()\n",
    "\n",
    "# Fit model to training data\n",
    "\n",
    "model.fit(X_train, y_train)\n",
    "trainingScore = model.score(X_train, y_train)\n",
    "testingScore = model.score(X_test, y_test)\n",
    "\n",
    "print(f\"Training Score: {trainingScore}\")\n",
    "print(f\"Testing Score: {testingScore}\")"
   ]
  },
  {
   "cell_type": "code",
   "execution_count": 12,
   "metadata": {},
   "outputs": [
    {
     "data": {
      "text/plain": [
       "Text(0.5, 1.0, 'Residual Plot')"
      ]
     },
     "execution_count": 12,
     "metadata": {},
     "output_type": "execute_result"
    },
    {
     "data": {
      "image/png": "[encoded data removed]",
      "text/plain": [
       "<Figure size 432x288 with 1 Axes>"
      ]
     },
     "metadata": {
      "needs_background": "light"
     },
     "output_type": "display_data"
    }
   ],
   "source": [
    "# Plot the Residuals for the Training and Testing data\n",
    "\n",
    "plt.scatter(model.predict(X_train), model.predict(X_train) - y_train, c=\"yellow\", label=\"Training Data\")\n",
    "plt.scatter(model.predict(X_test), model.predict(X_test) - y_test, c=\"purple\", label=\"Testing Data\")\n",
    "plt.legend()\n",
    "plt.hlines(y=0, xmin=y.min(), xmax=y.max())\n",
    "plt.title(\"Residual Plot\")"
   ]
  },
  {
   "cell_type": "code",
   "execution_count": 13,
   "metadata": {},
   "outputs": [
    {
     "name": "stdout",
     "output_type": "stream",
     "text": [
      "MSE: 11.752434852620803, R2: 0.6080105617528113\n"
     ]
    }
   ],
   "source": [
    "from sklearn.metrics import mean_squared_error\n",
    "\n",
    "predictions = model.predict(X_test)\n",
    "MSE = mean_squared_error(y_test, predictions)\n",
    "r2 = model.score(X_test, y_test)\n",
    "\n",
    "print(f\"MSE: {MSE}, R2: {r2}\")"
   ]
  },
  {
   "cell_type": "markdown",
   "metadata": {},
   "source": [
    "# TakeAways: [Conclusion Here]"
   ]
  },
  {
   "cell_type": "code",
   "execution_count": null,
   "metadata": {},
   "outputs": [],
   "source": []
  }
 ],
 "metadata": {
  "kernelspec": {
   "display_name": "Python 3",
   "language": "python",
   "name": "python3"
  },
  "language_info": {
   "codemirror_mode": {
    "name": "ipython",
    "version": 3
   },
   "file_extension": ".py",
   "mimetype": "text/x-python",
   "name": "python",
   "nbconvert_exporter": "python",
   "pygments_lexer": "ipython3",
   "version": "3.6.9"
  }
 },
 "nbformat": 4,
 "nbformat_minor": 2
}
