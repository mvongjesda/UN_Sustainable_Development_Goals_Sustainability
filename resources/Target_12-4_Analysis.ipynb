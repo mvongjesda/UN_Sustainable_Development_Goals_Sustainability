{
 "cells": [
  {
   "cell_type": "markdown",
   "metadata": {},
   "source": [
    "# Goal 12, Target 12.4 Sustainability Analysis"
   ]
  },
  {
   "cell_type": "markdown",
   "metadata": {},
   "source": [
    "Subset of the Sustainability_Analysis.ipynb that focuses on Target 12.4\n",
    "\n",
    "Goal 12, Target 12.4: By 2020, achieve the environmentally sound management of chemicals and all wastes throughout their life cycle, in accordance with agreed international frameworks, and significantly reduce their release to air, water and soil in order to minimize their adverse impacts on human health and the environment"
   ]
  },
  {
   "cell_type": "markdown",
   "metadata": {},
   "source": [
    "## Import Dependencies"
   ]
  },
  {
   "cell_type": "code",
   "execution_count": 1,
   "metadata": {},
   "outputs": [],
   "source": [
    "import numpy as np\n",
    "import pandas as pd\n",
    "import matplotlib.pyplot as plt\n",
    "import requests\n",
    "import seaborn as sns\n",
    "import os"
   ]
  },
  {
   "cell_type": "markdown",
   "metadata": {},
   "source": [
    "# Read in xlsx files related to UN's Goal of Sustainability\n",
    "\n",
    "Focus on per capita data in order to account for countries' differences in population."
   ]
  },
  {
   "cell_type": "markdown",
   "metadata": {},
   "source": [
    "## Electronic Waste Datasets"
   ]
  },
  {
   "cell_type": "code",
   "execution_count": 2,
   "metadata": {
    "scrolled": false
   },
   "outputs": [
    {
     "data": {
      "text/html": [
       "<div>\n",
       "<style scoped>\n",
       "    .dataframe tbody tr th:only-of-type {\n",
       "        vertical-align: middle;\n",
       "    }\n",
       "\n",
       "    .dataframe tbody tr th {\n",
       "        vertical-align: top;\n",
       "    }\n",
       "\n",
       "    .dataframe thead th {\n",
       "        text-align: right;\n",
       "    }\n",
       "</style>\n",
       "<table border=\"1\" class=\"dataframe\">\n",
       "  <thead>\n",
       "    <tr style=\"text-align: right;\">\n",
       "      <th></th>\n",
       "      <th>Goal</th>\n",
       "      <th>Target</th>\n",
       "      <th>Indicator</th>\n",
       "      <th>SeriesCode</th>\n",
       "      <th>SeriesDescription</th>\n",
       "      <th>GeoAreaCode</th>\n",
       "      <th>GeoAreaName</th>\n",
       "      <th>Nature</th>\n",
       "      <th>Reporting Type</th>\n",
       "      <th>Units</th>\n",
       "      <th>...</th>\n",
       "      <th>2010</th>\n",
       "      <th>2011</th>\n",
       "      <th>2012</th>\n",
       "      <th>2013</th>\n",
       "      <th>2014</th>\n",
       "      <th>2015</th>\n",
       "      <th>2016</th>\n",
       "      <th>2017</th>\n",
       "      <th>2018</th>\n",
       "      <th>2019</th>\n",
       "    </tr>\n",
       "  </thead>\n",
       "  <tbody>\n",
       "    <tr>\n",
       "      <td>0</td>\n",
       "      <td>12</td>\n",
       "      <td>12.4</td>\n",
       "      <td>12.4.2</td>\n",
       "      <td>EN_EWT_GENPCAP</td>\n",
       "      <td>Electronic waste generated, per capita (Kg)</td>\n",
       "      <td>4</td>\n",
       "      <td>Afghanistan</td>\n",
       "      <td>E</td>\n",
       "      <td>G</td>\n",
       "      <td>KG</td>\n",
       "      <td>...</td>\n",
       "      <td>0.254903</td>\n",
       "      <td>0.297841</td>\n",
       "      <td>0.342332</td>\n",
       "      <td>0.385085</td>\n",
       "      <td>0.427947</td>\n",
       "      <td>0.468858</td>\n",
       "      <td>0.509681</td>\n",
       "      <td>0.549503</td>\n",
       "      <td>0.592546</td>\n",
       "      <td>0.630326</td>\n",
       "    </tr>\n",
       "    <tr>\n",
       "      <td>1</td>\n",
       "      <td>12</td>\n",
       "      <td>12.4</td>\n",
       "      <td>12.4.2</td>\n",
       "      <td>EN_EWT_GENPCAP</td>\n",
       "      <td>Electronic waste generated, per capita (Kg)</td>\n",
       "      <td>2</td>\n",
       "      <td>Africa</td>\n",
       "      <td>E</td>\n",
       "      <td>G</td>\n",
       "      <td>KG</td>\n",
       "      <td>...</td>\n",
       "      <td>1.736518</td>\n",
       "      <td>1.882356</td>\n",
       "      <td>1.991023</td>\n",
       "      <td>2.095194</td>\n",
       "      <td>2.187254</td>\n",
       "      <td>2.262542</td>\n",
       "      <td>2.333871</td>\n",
       "      <td>2.384393</td>\n",
       "      <td>2.438595</td>\n",
       "      <td>2.486051</td>\n",
       "    </tr>\n",
       "  </tbody>\n",
       "</table>\n",
       "<p>2 rows × 30 columns</p>\n",
       "</div>"
      ],
      "text/plain": [
       "   Goal  Target Indicator      SeriesCode  \\\n",
       "0    12    12.4    12.4.2  EN_EWT_GENPCAP   \n",
       "1    12    12.4    12.4.2  EN_EWT_GENPCAP   \n",
       "\n",
       "                             SeriesDescription  GeoAreaCode  GeoAreaName  \\\n",
       "0  Electronic waste generated, per capita (Kg)            4  Afghanistan   \n",
       "1  Electronic waste generated, per capita (Kg)            2       Africa   \n",
       "\n",
       "  Nature Reporting Type Units  ...      2010      2011      2012      2013  \\\n",
       "0      E              G    KG  ...  0.254903  0.297841  0.342332  0.385085   \n",
       "1      E              G    KG  ...  1.736518  1.882356  1.991023  2.095194   \n",
       "\n",
       "       2014      2015      2016      2017      2018      2019  \n",
       "0  0.427947  0.468858  0.509681  0.549503  0.592546  0.630326  \n",
       "1  2.187254  2.262542  2.333871  2.384393  2.438595  2.486051  \n",
       "\n",
       "[2 rows x 30 columns]"
      ]
     },
     "execution_count": 2,
     "metadata": {},
     "output_type": "execute_result"
    }
   ],
   "source": [
    "# 1st xlsx: electronic waste generated per capita (kg) \n",
    "# Goal 12, Target 12.4, Indicator 12.4.2\n",
    "e_waste_pc = pd.read_excel('data/EN_EWT_GENPCAP.xlsx')\n",
    "e_waste_pc.head(2)"
   ]
  },
  {
   "cell_type": "code",
   "execution_count": 3,
   "metadata": {},
   "outputs": [
    {
     "data": {
      "text/html": [
       "<div>\n",
       "<style scoped>\n",
       "    .dataframe tbody tr th:only-of-type {\n",
       "        vertical-align: middle;\n",
       "    }\n",
       "\n",
       "    .dataframe tbody tr th {\n",
       "        vertical-align: top;\n",
       "    }\n",
       "\n",
       "    .dataframe thead th {\n",
       "        text-align: right;\n",
       "    }\n",
       "</style>\n",
       "<table border=\"1\" class=\"dataframe\">\n",
       "  <thead>\n",
       "    <tr style=\"text-align: right;\">\n",
       "      <th></th>\n",
       "      <th>SeriesDescription</th>\n",
       "      <th>GeoAreaName</th>\n",
       "      <th>year</th>\n",
       "      <th>value</th>\n",
       "    </tr>\n",
       "  </thead>\n",
       "  <tbody>\n",
       "    <tr>\n",
       "      <td>0</td>\n",
       "      <td>Electronic waste generated, per capita (Kg)</td>\n",
       "      <td>Afghanistan</td>\n",
       "      <td>2010</td>\n",
       "      <td>0.254903</td>\n",
       "    </tr>\n",
       "    <tr>\n",
       "      <td>1</td>\n",
       "      <td>Electronic waste generated, per capita (Kg)</td>\n",
       "      <td>Africa</td>\n",
       "      <td>2010</td>\n",
       "      <td>1.736518</td>\n",
       "    </tr>\n",
       "    <tr>\n",
       "      <td>2</td>\n",
       "      <td>Electronic waste generated, per capita (Kg)</td>\n",
       "      <td>Albania</td>\n",
       "      <td>2010</td>\n",
       "      <td>4.391893</td>\n",
       "    </tr>\n",
       "    <tr>\n",
       "      <td>3</td>\n",
       "      <td>Electronic waste generated, per capita (Kg)</td>\n",
       "      <td>Algeria</td>\n",
       "      <td>2010</td>\n",
       "      <td>5.458888</td>\n",
       "    </tr>\n",
       "    <tr>\n",
       "      <td>4</td>\n",
       "      <td>Electronic waste generated, per capita (Kg)</td>\n",
       "      <td>Americas</td>\n",
       "      <td>2010</td>\n",
       "      <td>10.516785</td>\n",
       "    </tr>\n",
       "  </tbody>\n",
       "</table>\n",
       "</div>"
      ],
      "text/plain": [
       "                             SeriesDescription  GeoAreaName  year      value\n",
       "0  Electronic waste generated, per capita (Kg)  Afghanistan  2010   0.254903\n",
       "1  Electronic waste generated, per capita (Kg)       Africa  2010   1.736518\n",
       "2  Electronic waste generated, per capita (Kg)      Albania  2010   4.391893\n",
       "3  Electronic waste generated, per capita (Kg)      Algeria  2010   5.458888\n",
       "4  Electronic waste generated, per capita (Kg)     Americas  2010  10.516785"
      ]
     },
     "execution_count": 3,
     "metadata": {},
     "output_type": "execute_result"
    }
   ],
   "source": [
    "e_waste_pc = e_waste_pc[[\"SeriesDescription\", \"GeoAreaName\", \"2010\", \"2011\", \"2012\", \"2013\", \n",
    "                         \"2014\", \"2015\", \"2016\", \"2017\", \"2018\", \"2019\" ]]\n",
    "\n",
    "melted_e_waste_pc = pd.melt(e_waste_pc, id_vars=[\"SeriesDescription\", 'GeoAreaName'], var_name='year')\n",
    "melted_e_waste_pc.head()"
   ]
  },
  {
   "cell_type": "code",
   "execution_count": null,
   "metadata": {},
   "outputs": [],
   "source": []
  },
  {
   "cell_type": "markdown",
   "metadata": {},
   "source": [
    "## Electronic Waste Recycling Datasets"
   ]
  },
  {
   "cell_type": "code",
   "execution_count": 4,
   "metadata": {
    "scrolled": false
   },
   "outputs": [
    {
     "data": {
      "text/html": [
       "<div>\n",
       "<style scoped>\n",
       "    .dataframe tbody tr th:only-of-type {\n",
       "        vertical-align: middle;\n",
       "    }\n",
       "\n",
       "    .dataframe tbody tr th {\n",
       "        vertical-align: top;\n",
       "    }\n",
       "\n",
       "    .dataframe thead th {\n",
       "        text-align: right;\n",
       "    }\n",
       "</style>\n",
       "<table border=\"1\" class=\"dataframe\">\n",
       "  <thead>\n",
       "    <tr style=\"text-align: right;\">\n",
       "      <th></th>\n",
       "      <th>Goal</th>\n",
       "      <th>Target</th>\n",
       "      <th>Indicator</th>\n",
       "      <th>SeriesCode</th>\n",
       "      <th>SeriesDescription</th>\n",
       "      <th>GeoAreaCode</th>\n",
       "      <th>GeoAreaName</th>\n",
       "      <th>Nature</th>\n",
       "      <th>Reporting Type</th>\n",
       "      <th>Units</th>\n",
       "      <th>2010</th>\n",
       "      <th>2011</th>\n",
       "      <th>2012</th>\n",
       "      <th>2013</th>\n",
       "      <th>2014</th>\n",
       "      <th>2015</th>\n",
       "      <th>2016</th>\n",
       "      <th>2017</th>\n",
       "      <th>2018</th>\n",
       "      <th>2019</th>\n",
       "    </tr>\n",
       "  </thead>\n",
       "  <tbody>\n",
       "    <tr>\n",
       "      <td>0</td>\n",
       "      <td>12</td>\n",
       "      <td>12.4</td>\n",
       "      <td>12.4.2</td>\n",
       "      <td>EN_EWT_RCYPCAP</td>\n",
       "      <td>Electronic waste recycling, per capita (Kg)</td>\n",
       "      <td>8</td>\n",
       "      <td>Albania</td>\n",
       "      <td>E</td>\n",
       "      <td>G</td>\n",
       "      <td>KG</td>\n",
       "      <td>NaN</td>\n",
       "      <td>NaN</td>\n",
       "      <td>NaN</td>\n",
       "      <td>3.237495</td>\n",
       "      <td>4.242644</td>\n",
       "      <td>4.889079</td>\n",
       "      <td>5.103762</td>\n",
       "      <td>5.303011</td>\n",
       "      <td>5.477067</td>\n",
       "      <td>5.639709</td>\n",
       "    </tr>\n",
       "    <tr>\n",
       "      <td>1</td>\n",
       "      <td>12</td>\n",
       "      <td>12.4</td>\n",
       "      <td>12.4.2</td>\n",
       "      <td>EN_EWT_RCYPCAP</td>\n",
       "      <td>Electronic waste recycling, per capita (Kg)</td>\n",
       "      <td>28</td>\n",
       "      <td>Antigua and Barbuda</td>\n",
       "      <td>E</td>\n",
       "      <td>G</td>\n",
       "      <td>KG</td>\n",
       "      <td>NaN</td>\n",
       "      <td>NaN</td>\n",
       "      <td>NaN</td>\n",
       "      <td>NaN</td>\n",
       "      <td>11.883926</td>\n",
       "      <td>11.755779</td>\n",
       "      <td>12.078921</td>\n",
       "      <td>12.385940</td>\n",
       "      <td>12.666956</td>\n",
       "      <td>12.948181</td>\n",
       "    </tr>\n",
       "  </tbody>\n",
       "</table>\n",
       "</div>"
      ],
      "text/plain": [
       "   Goal  Target Indicator      SeriesCode  \\\n",
       "0    12    12.4    12.4.2  EN_EWT_RCYPCAP   \n",
       "1    12    12.4    12.4.2  EN_EWT_RCYPCAP   \n",
       "\n",
       "                             SeriesDescription  GeoAreaCode  \\\n",
       "0  Electronic waste recycling, per capita (Kg)            8   \n",
       "1  Electronic waste recycling, per capita (Kg)           28   \n",
       "\n",
       "           GeoAreaName Nature Reporting Type Units  2010  2011  2012  \\\n",
       "0              Albania      E              G    KG   NaN   NaN   NaN   \n",
       "1  Antigua and Barbuda      E              G    KG   NaN   NaN   NaN   \n",
       "\n",
       "       2013       2014       2015       2016       2017       2018       2019  \n",
       "0  3.237495   4.242644   4.889079   5.103762   5.303011   5.477067   5.639709  \n",
       "1       NaN  11.883926  11.755779  12.078921  12.385940  12.666956  12.948181  "
      ]
     },
     "execution_count": 4,
     "metadata": {},
     "output_type": "execute_result"
    }
   ],
   "source": [
    "# 3rd xlsx: electronic waste recycling, per capita (kg) \n",
    "# Goal 12, Target 12.4, Indicator 12.4.2\n",
    "e_recycling_pc = pd.read_excel('data/EN_EWT_RCYPCAP.xlsx')\n",
    "e_recycling_pc.head(2)"
   ]
  },
  {
   "cell_type": "code",
   "execution_count": 5,
   "metadata": {
    "scrolled": true
   },
   "outputs": [
    {
     "data": {
      "text/plain": [
       "Index(['Goal', 'Target', 'Indicator', 'SeriesCode', 'SeriesDescription',\n",
       "       'GeoAreaCode', 'GeoAreaName', 'Nature', 'Reporting Type', 'Units',\n",
       "       '2010', '2011', '2012', '2013', '2014', '2015', '2016', '2017', '2018',\n",
       "       '2019'],\n",
       "      dtype='object')"
      ]
     },
     "execution_count": 5,
     "metadata": {},
     "output_type": "execute_result"
    }
   ],
   "source": [
    "e_recycling_pc.columns"
   ]
  },
  {
   "cell_type": "code",
   "execution_count": 6,
   "metadata": {},
   "outputs": [
    {
     "data": {
      "text/html": [
       "<div>\n",
       "<style scoped>\n",
       "    .dataframe tbody tr th:only-of-type {\n",
       "        vertical-align: middle;\n",
       "    }\n",
       "\n",
       "    .dataframe tbody tr th {\n",
       "        vertical-align: top;\n",
       "    }\n",
       "\n",
       "    .dataframe thead th {\n",
       "        text-align: right;\n",
       "    }\n",
       "</style>\n",
       "<table border=\"1\" class=\"dataframe\">\n",
       "  <thead>\n",
       "    <tr style=\"text-align: right;\">\n",
       "      <th></th>\n",
       "      <th>SeriesDescription</th>\n",
       "      <th>GeoAreaName</th>\n",
       "      <th>year</th>\n",
       "      <th>value</th>\n",
       "    </tr>\n",
       "  </thead>\n",
       "  <tbody>\n",
       "    <tr>\n",
       "      <td>0</td>\n",
       "      <td>Electronic waste recycling, per capita (Kg)</td>\n",
       "      <td>Albania</td>\n",
       "      <td>2010</td>\n",
       "      <td>NaN</td>\n",
       "    </tr>\n",
       "    <tr>\n",
       "      <td>1</td>\n",
       "      <td>Electronic waste recycling, per capita (Kg)</td>\n",
       "      <td>Antigua and Barbuda</td>\n",
       "      <td>2010</td>\n",
       "      <td>NaN</td>\n",
       "    </tr>\n",
       "    <tr>\n",
       "      <td>2</td>\n",
       "      <td>Electronic waste recycling, per capita (Kg)</td>\n",
       "      <td>Argentina</td>\n",
       "      <td>2010</td>\n",
       "      <td>NaN</td>\n",
       "    </tr>\n",
       "    <tr>\n",
       "      <td>3</td>\n",
       "      <td>Electronic waste recycling, per capita (Kg)</td>\n",
       "      <td>Armenia</td>\n",
       "      <td>2010</td>\n",
       "      <td>NaN</td>\n",
       "    </tr>\n",
       "    <tr>\n",
       "      <td>4</td>\n",
       "      <td>Electronic waste recycling, per capita (Kg)</td>\n",
       "      <td>Australia</td>\n",
       "      <td>2010</td>\n",
       "      <td>NaN</td>\n",
       "    </tr>\n",
       "  </tbody>\n",
       "</table>\n",
       "</div>"
      ],
      "text/plain": [
       "                             SeriesDescription          GeoAreaName  year  \\\n",
       "0  Electronic waste recycling, per capita (Kg)              Albania  2010   \n",
       "1  Electronic waste recycling, per capita (Kg)  Antigua and Barbuda  2010   \n",
       "2  Electronic waste recycling, per capita (Kg)            Argentina  2010   \n",
       "3  Electronic waste recycling, per capita (Kg)              Armenia  2010   \n",
       "4  Electronic waste recycling, per capita (Kg)            Australia  2010   \n",
       "\n",
       "   value  \n",
       "0    NaN  \n",
       "1    NaN  \n",
       "2    NaN  \n",
       "3    NaN  \n",
       "4    NaN  "
      ]
     },
     "execution_count": 6,
     "metadata": {},
     "output_type": "execute_result"
    }
   ],
   "source": [
    "e_recycling_pc = e_recycling_pc[[\"SeriesDescription\", \"GeoAreaName\", \"2010\", \"2011\", \"2012\", \"2013\", \n",
    "                         \"2014\", \"2015\", \"2016\", \"2017\", \"2018\", \"2019\" ]]\n",
    "\n",
    "melted_e_recycling_pc = pd.melt(e_recycling_pc, id_vars=[\"SeriesDescription\", 'GeoAreaName'], var_name='year')\n",
    "melted_e_recycling_pc.head()"
   ]
  },
  {
   "cell_type": "markdown",
   "metadata": {},
   "source": [
    "### Merge Dataframes"
   ]
  },
  {
   "cell_type": "code",
   "execution_count": 7,
   "metadata": {},
   "outputs": [
    {
     "name": "stdout",
     "output_type": "stream",
     "text": [
      "<class 'pandas.core.frame.DataFrame'>\n",
      "Int64Index: 770 entries, 0 to 769\n",
      "Data columns (total 6 columns):\n",
      "Electronic Waste Recycling                     770 non-null object\n",
      "name                                           770 non-null object\n",
      "TimePeriod                                     770 non-null object\n",
      "Electronic Waste Recycling, per capita (Kg)    616 non-null float64\n",
      "Electronic Waste Generated                     770 non-null object\n",
      "Electronic Waste Generated, per capita (Kg)    770 non-null float64\n",
      "dtypes: float64(2), object(4)\n",
      "memory usage: 42.1+ KB\n"
     ]
    },
    {
     "data": {
      "text/plain": [
       "Electronic Waste Recycling                      object\n",
       "name                                            object\n",
       "TimePeriod                                       int32\n",
       "Electronic Waste Recycling, per capita (Kg)    float64\n",
       "Electronic Waste Generated                      object\n",
       "Electronic Waste Generated, per capita (Kg)    float64\n",
       "dtype: object"
      ]
     },
     "execution_count": 7,
     "metadata": {},
     "output_type": "execute_result"
    }
   ],
   "source": [
    "merged_electronic = pd.merge(melted_e_recycling_pc, melted_e_waste_pc, on=[\"year\", \"GeoAreaName\"])\n",
    "merged_electronic = merged_electronic.rename(columns={\n",
    "                                                    \"GeoAreaName\": \"name\",\n",
    "                                                    \"year\": \"TimePeriod\",\n",
    "                                                    \"SeriesDescription_y\": \"Electronic Waste Generated\",\n",
    "                                                    \"value_y\": \"Electronic Waste Generated, per capita (Kg)\",\n",
    "                                                    \"SeriesDescription_x\": \"Electronic Waste Recycling\", \n",
    "                                                    \"value_x\": \"Electronic Waste Recycling, per capita (Kg)\"})\n",
    "merged_electronic.info()\n",
    "merged_electronic.astype({'TimePeriod': 'int32'}).dtypes"
   ]
  },
  {
   "cell_type": "code",
   "execution_count": 8,
   "metadata": {},
   "outputs": [
    {
     "data": {
      "text/html": [
       "<div>\n",
       "<style scoped>\n",
       "    .dataframe tbody tr th:only-of-type {\n",
       "        vertical-align: middle;\n",
       "    }\n",
       "\n",
       "    .dataframe tbody tr th {\n",
       "        vertical-align: top;\n",
       "    }\n",
       "\n",
       "    .dataframe thead th {\n",
       "        text-align: right;\n",
       "    }\n",
       "</style>\n",
       "<table border=\"1\" class=\"dataframe\">\n",
       "  <thead>\n",
       "    <tr style=\"text-align: right;\">\n",
       "      <th></th>\n",
       "      <th>Electronic Waste Recycling</th>\n",
       "      <th>name</th>\n",
       "      <th>TimePeriod</th>\n",
       "      <th>Electronic Waste Recycling, per capita (Kg)</th>\n",
       "      <th>Electronic Waste Generated</th>\n",
       "      <th>Electronic Waste Generated, per capita (Kg)</th>\n",
       "    </tr>\n",
       "  </thead>\n",
       "  <tbody>\n",
       "    <tr>\n",
       "      <td>0</td>\n",
       "      <td>Electronic waste recycling, per capita (Kg)</td>\n",
       "      <td>Albania</td>\n",
       "      <td>2010</td>\n",
       "      <td>NaN</td>\n",
       "      <td>Electronic waste generated, per capita (Kg)</td>\n",
       "      <td>4.391893</td>\n",
       "    </tr>\n",
       "    <tr>\n",
       "      <td>1</td>\n",
       "      <td>Electronic waste recycling, per capita (Kg)</td>\n",
       "      <td>Antigua and Barbuda</td>\n",
       "      <td>2010</td>\n",
       "      <td>NaN</td>\n",
       "      <td>Electronic waste generated, per capita (Kg)</td>\n",
       "      <td>9.656717</td>\n",
       "    </tr>\n",
       "    <tr>\n",
       "      <td>2</td>\n",
       "      <td>Electronic waste recycling, per capita (Kg)</td>\n",
       "      <td>Argentina</td>\n",
       "      <td>2010</td>\n",
       "      <td>NaN</td>\n",
       "      <td>Electronic waste generated, per capita (Kg)</td>\n",
       "      <td>7.624459</td>\n",
       "    </tr>\n",
       "    <tr>\n",
       "      <td>3</td>\n",
       "      <td>Electronic waste recycling, per capita (Kg)</td>\n",
       "      <td>Armenia</td>\n",
       "      <td>2010</td>\n",
       "      <td>NaN</td>\n",
       "      <td>Electronic waste generated, per capita (Kg)</td>\n",
       "      <td>3.178374</td>\n",
       "    </tr>\n",
       "    <tr>\n",
       "      <td>4</td>\n",
       "      <td>Electronic waste recycling, per capita (Kg)</td>\n",
       "      <td>Australia</td>\n",
       "      <td>2010</td>\n",
       "      <td>NaN</td>\n",
       "      <td>Electronic waste generated, per capita (Kg)</td>\n",
       "      <td>18.370894</td>\n",
       "    </tr>\n",
       "  </tbody>\n",
       "</table>\n",
       "</div>"
      ],
      "text/plain": [
       "                    Electronic Waste Recycling                 name  \\\n",
       "0  Electronic waste recycling, per capita (Kg)              Albania   \n",
       "1  Electronic waste recycling, per capita (Kg)  Antigua and Barbuda   \n",
       "2  Electronic waste recycling, per capita (Kg)            Argentina   \n",
       "3  Electronic waste recycling, per capita (Kg)              Armenia   \n",
       "4  Electronic waste recycling, per capita (Kg)            Australia   \n",
       "\n",
       "  TimePeriod  Electronic Waste Recycling, per capita (Kg)  \\\n",
       "0       2010                                          NaN   \n",
       "1       2010                                          NaN   \n",
       "2       2010                                          NaN   \n",
       "3       2010                                          NaN   \n",
       "4       2010                                          NaN   \n",
       "\n",
       "                    Electronic Waste Generated  \\\n",
       "0  Electronic waste generated, per capita (Kg)   \n",
       "1  Electronic waste generated, per capita (Kg)   \n",
       "2  Electronic waste generated, per capita (Kg)   \n",
       "3  Electronic waste generated, per capita (Kg)   \n",
       "4  Electronic waste generated, per capita (Kg)   \n",
       "\n",
       "   Electronic Waste Generated, per capita (Kg)  \n",
       "0                                     4.391893  \n",
       "1                                     9.656717  \n",
       "2                                     7.624459  \n",
       "3                                     3.178374  \n",
       "4                                    18.370894  "
      ]
     },
     "execution_count": 8,
     "metadata": {},
     "output_type": "execute_result"
    }
   ],
   "source": [
    "merged_electronic.head()"
   ]
  },
  {
   "cell_type": "code",
   "execution_count": 9,
   "metadata": {},
   "outputs": [],
   "source": [
    "#Write to csv file\n",
    "merged_electronic.to_csv(\"data/merged_electronic.csv\", encoding=\"utf-8\", index=False)"
   ]
  },
  {
   "cell_type": "code",
   "execution_count": 10,
   "metadata": {
    "scrolled": false
   },
   "outputs": [
    {
     "data": {
      "text/html": [
       "<div>\n",
       "<style scoped>\n",
       "    .dataframe tbody tr th:only-of-type {\n",
       "        vertical-align: middle;\n",
       "    }\n",
       "\n",
       "    .dataframe tbody tr th {\n",
       "        vertical-align: top;\n",
       "    }\n",
       "\n",
       "    .dataframe thead th {\n",
       "        text-align: right;\n",
       "    }\n",
       "</style>\n",
       "<table border=\"1\" class=\"dataframe\">\n",
       "  <thead>\n",
       "    <tr style=\"text-align: right;\">\n",
       "      <th></th>\n",
       "      <th>name</th>\n",
       "      <th>humanDevelopmentIndex</th>\n",
       "      <th>pop2020</th>\n",
       "    </tr>\n",
       "  </thead>\n",
       "  <tbody>\n",
       "    <tr>\n",
       "      <td>0</td>\n",
       "      <td>Norway</td>\n",
       "      <td>0.953</td>\n",
       "      <td>5421.241</td>\n",
       "    </tr>\n",
       "    <tr>\n",
       "      <td>1</td>\n",
       "      <td>Switzerland</td>\n",
       "      <td>0.944</td>\n",
       "      <td>8654.622</td>\n",
       "    </tr>\n",
       "  </tbody>\n",
       "</table>\n",
       "</div>"
      ],
      "text/plain": [
       "          name  humanDevelopmentIndex   pop2020\n",
       "0       Norway                  0.953  5421.241\n",
       "1  Switzerland                  0.944  8654.622"
      ]
     },
     "execution_count": 10,
     "metadata": {},
     "output_type": "execute_result"
    }
   ],
   "source": [
    "hdi_df = pd.read_csv('data/HDI_data.csv')\n",
    "hdi_df.head(2)"
   ]
  },
  {
   "cell_type": "code",
   "execution_count": 11,
   "metadata": {
    "scrolled": true
   },
   "outputs": [
    {
     "data": {
      "text/html": [
       "<div>\n",
       "<style scoped>\n",
       "    .dataframe tbody tr th:only-of-type {\n",
       "        vertical-align: middle;\n",
       "    }\n",
       "\n",
       "    .dataframe tbody tr th {\n",
       "        vertical-align: top;\n",
       "    }\n",
       "\n",
       "    .dataframe thead th {\n",
       "        text-align: right;\n",
       "    }\n",
       "</style>\n",
       "<table border=\"1\" class=\"dataframe\">\n",
       "  <thead>\n",
       "    <tr style=\"text-align: right;\">\n",
       "      <th></th>\n",
       "      <th>Electronic Waste Recycling</th>\n",
       "      <th>name</th>\n",
       "      <th>TimePeriod</th>\n",
       "      <th>Electronic Waste Recycling, per capita (Kg)</th>\n",
       "      <th>Electronic Waste Generated</th>\n",
       "      <th>Electronic Waste Generated, per capita (Kg)</th>\n",
       "      <th>humanDevelopmentIndex</th>\n",
       "      <th>pop2020</th>\n",
       "    </tr>\n",
       "  </thead>\n",
       "  <tbody>\n",
       "    <tr>\n",
       "      <td>0</td>\n",
       "      <td>Electronic waste recycling, per capita (Kg)</td>\n",
       "      <td>Albania</td>\n",
       "      <td>2010</td>\n",
       "      <td>NaN</td>\n",
       "      <td>Electronic waste generated, per capita (Kg)</td>\n",
       "      <td>4.391893</td>\n",
       "      <td>0.785</td>\n",
       "      <td>2877.797</td>\n",
       "    </tr>\n",
       "    <tr>\n",
       "      <td>1</td>\n",
       "      <td>Electronic waste recycling, per capita (Kg)</td>\n",
       "      <td>Albania</td>\n",
       "      <td>2011</td>\n",
       "      <td>NaN</td>\n",
       "      <td>Electronic waste generated, per capita (Kg)</td>\n",
       "      <td>4.857921</td>\n",
       "      <td>0.785</td>\n",
       "      <td>2877.797</td>\n",
       "    </tr>\n",
       "    <tr>\n",
       "      <td>2</td>\n",
       "      <td>Electronic waste recycling, per capita (Kg)</td>\n",
       "      <td>Albania</td>\n",
       "      <td>2012</td>\n",
       "      <td>NaN</td>\n",
       "      <td>Electronic waste generated, per capita (Kg)</td>\n",
       "      <td>5.310308</td>\n",
       "      <td>0.785</td>\n",
       "      <td>2877.797</td>\n",
       "    </tr>\n",
       "    <tr>\n",
       "      <td>3</td>\n",
       "      <td>Electronic waste recycling, per capita (Kg)</td>\n",
       "      <td>Albania</td>\n",
       "      <td>2013</td>\n",
       "      <td>3.237495</td>\n",
       "      <td>Electronic waste generated, per capita (Kg)</td>\n",
       "      <td>5.740930</td>\n",
       "      <td>0.785</td>\n",
       "      <td>2877.797</td>\n",
       "    </tr>\n",
       "    <tr>\n",
       "      <td>4</td>\n",
       "      <td>Electronic waste recycling, per capita (Kg)</td>\n",
       "      <td>Albania</td>\n",
       "      <td>2014</td>\n",
       "      <td>4.242644</td>\n",
       "      <td>Electronic waste generated, per capita (Kg)</td>\n",
       "      <td>6.112550</td>\n",
       "      <td>0.785</td>\n",
       "      <td>2877.797</td>\n",
       "    </tr>\n",
       "  </tbody>\n",
       "</table>\n",
       "</div>"
      ],
      "text/plain": [
       "                    Electronic Waste Recycling     name TimePeriod  \\\n",
       "0  Electronic waste recycling, per capita (Kg)  Albania       2010   \n",
       "1  Electronic waste recycling, per capita (Kg)  Albania       2011   \n",
       "2  Electronic waste recycling, per capita (Kg)  Albania       2012   \n",
       "3  Electronic waste recycling, per capita (Kg)  Albania       2013   \n",
       "4  Electronic waste recycling, per capita (Kg)  Albania       2014   \n",
       "\n",
       "   Electronic Waste Recycling, per capita (Kg)  \\\n",
       "0                                          NaN   \n",
       "1                                          NaN   \n",
       "2                                          NaN   \n",
       "3                                     3.237495   \n",
       "4                                     4.242644   \n",
       "\n",
       "                    Electronic Waste Generated  \\\n",
       "0  Electronic waste generated, per capita (Kg)   \n",
       "1  Electronic waste generated, per capita (Kg)   \n",
       "2  Electronic waste generated, per capita (Kg)   \n",
       "3  Electronic waste generated, per capita (Kg)   \n",
       "4  Electronic waste generated, per capita (Kg)   \n",
       "\n",
       "   Electronic Waste Generated, per capita (Kg)  humanDevelopmentIndex  \\\n",
       "0                                     4.391893                  0.785   \n",
       "1                                     4.857921                  0.785   \n",
       "2                                     5.310308                  0.785   \n",
       "3                                     5.740930                  0.785   \n",
       "4                                     6.112550                  0.785   \n",
       "\n",
       "    pop2020  \n",
       "0  2877.797  \n",
       "1  2877.797  \n",
       "2  2877.797  \n",
       "3  2877.797  \n",
       "4  2877.797  "
      ]
     },
     "execution_count": 11,
     "metadata": {},
     "output_type": "execute_result"
    }
   ],
   "source": [
    "merged_electronic_hdi = pd.merge(merged_electronic, hdi_df, on=[\"name\"])\n",
    "merged_electronic_hdi.head()"
   ]
  },
  {
   "cell_type": "code",
   "execution_count": 12,
   "metadata": {},
   "outputs": [],
   "source": [
    "merged_electronic_hdi = merged_electronic_hdi.rename(columns={\"humanDevelopmentIndex\": \"HDI\", \"pop2020\": \"Population\"})\n"
   ]
  },
  {
   "cell_type": "code",
   "execution_count": 13,
   "metadata": {},
   "outputs": [],
   "source": [
    "merged_electronic_hdi = merged_electronic_hdi[[\"name\", \"TimePeriod\", \"HDI\", \"Population\", \"Electronic Waste Recycling, per capita (Kg)\", \"Electronic Waste Generated, per capita (Kg)\" ]]"
   ]
  },
  {
   "cell_type": "code",
   "execution_count": 14,
   "metadata": {},
   "outputs": [],
   "source": [
    "# Write to csv file\n",
    "merged_electronic_hdi.to_csv(\"data/merged_electronic_hdi.csv\", encoding=\"utf-8\", index=False)"
   ]
  },
  {
   "cell_type": "code",
   "execution_count": null,
   "metadata": {},
   "outputs": [],
   "source": []
  },
  {
   "cell_type": "code",
   "execution_count": null,
   "metadata": {},
   "outputs": [],
   "source": [
    "# 57 countries represent 90% of data\n",
    "merged_electronic.sample(n=57).head(10)"
   ]
  },
  {
   "cell_type": "markdown",
   "metadata": {},
   "source": [
    "## Hazardous Waste Datasets"
   ]
  },
  {
   "cell_type": "code",
   "execution_count": 36,
   "metadata": {
    "scrolled": false
   },
   "outputs": [
    {
     "data": {
      "text/html": [
       "<div>\n",
       "<style scoped>\n",
       "    .dataframe tbody tr th:only-of-type {\n",
       "        vertical-align: middle;\n",
       "    }\n",
       "\n",
       "    .dataframe tbody tr th {\n",
       "        vertical-align: top;\n",
       "    }\n",
       "\n",
       "    .dataframe thead th {\n",
       "        text-align: right;\n",
       "    }\n",
       "</style>\n",
       "<table border=\"1\" class=\"dataframe\">\n",
       "  <thead>\n",
       "    <tr style=\"text-align: right;\">\n",
       "      <th></th>\n",
       "      <th>Goal</th>\n",
       "      <th>Target</th>\n",
       "      <th>Indicator</th>\n",
       "      <th>SeriesCode</th>\n",
       "      <th>SeriesDescription</th>\n",
       "      <th>GeoAreaCode</th>\n",
       "      <th>GeoAreaName</th>\n",
       "      <th>TimePeriod</th>\n",
       "      <th>Value</th>\n",
       "      <th>Time_Detail</th>\n",
       "      <th>UpperBound</th>\n",
       "      <th>LowerBound</th>\n",
       "      <th>BasePeriod</th>\n",
       "      <th>Source</th>\n",
       "      <th>FootNote</th>\n",
       "      <th>Nature</th>\n",
       "      <th>Reporting Type</th>\n",
       "      <th>Units</th>\n",
       "    </tr>\n",
       "  </thead>\n",
       "  <tbody>\n",
       "    <tr>\n",
       "      <td>0</td>\n",
       "      <td>12</td>\n",
       "      <td>12.4</td>\n",
       "      <td>12.4.2</td>\n",
       "      <td>EN_HAZ_PCAP</td>\n",
       "      <td>Hazardous waste generated, per capita (Kg)</td>\n",
       "      <td>12</td>\n",
       "      <td>Algeria</td>\n",
       "      <td>2003</td>\n",
       "      <td>10.029776</td>\n",
       "      <td>2003</td>\n",
       "      <td>NaN</td>\n",
       "      <td>NaN</td>\n",
       "      <td>NaN</td>\n",
       "      <td>UNSTATS / Environment Live</td>\n",
       "      <td>Quantity of hazardous waste in permanent storage.</td>\n",
       "      <td>C</td>\n",
       "      <td>G</td>\n",
       "      <td>KG</td>\n",
       "    </tr>\n",
       "    <tr>\n",
       "      <td>1</td>\n",
       "      <td>12</td>\n",
       "      <td>12.4</td>\n",
       "      <td>12.4.2</td>\n",
       "      <td>EN_HAZ_PCAP</td>\n",
       "      <td>Hazardous waste generated, per capita (Kg)</td>\n",
       "      <td>12</td>\n",
       "      <td>Algeria</td>\n",
       "      <td>2007</td>\n",
       "      <td>9.478113</td>\n",
       "      <td>2007</td>\n",
       "      <td>NaN</td>\n",
       "      <td>NaN</td>\n",
       "      <td>NaN</td>\n",
       "      <td>UNSTATS / Environment Live</td>\n",
       "      <td>NaN</td>\n",
       "      <td>C</td>\n",
       "      <td>G</td>\n",
       "      <td>KG</td>\n",
       "    </tr>\n",
       "  </tbody>\n",
       "</table>\n",
       "</div>"
      ],
      "text/plain": [
       "   Goal  Target Indicator   SeriesCode  \\\n",
       "0    12    12.4    12.4.2  EN_HAZ_PCAP   \n",
       "1    12    12.4    12.4.2  EN_HAZ_PCAP   \n",
       "\n",
       "                            SeriesDescription  GeoAreaCode GeoAreaName  \\\n",
       "0  Hazardous waste generated, per capita (Kg)           12     Algeria   \n",
       "1  Hazardous waste generated, per capita (Kg)           12     Algeria   \n",
       "\n",
       "   TimePeriod      Value  Time_Detail  UpperBound  LowerBound  BasePeriod  \\\n",
       "0        2003  10.029776         2003         NaN         NaN         NaN   \n",
       "1        2007   9.478113         2007         NaN         NaN         NaN   \n",
       "\n",
       "                        Source  \\\n",
       "0  UNSTATS / Environment Live    \n",
       "1  UNSTATS / Environment Live    \n",
       "\n",
       "                                            FootNote Nature Reporting Type  \\\n",
       "0  Quantity of hazardous waste in permanent storage.      C              G   \n",
       "1                                                NaN      C              G   \n",
       "\n",
       "  Units  \n",
       "0    KG  \n",
       "1    KG  "
      ]
     },
     "execution_count": 36,
     "metadata": {},
     "output_type": "execute_result"
    }
   ],
   "source": [
    "# 5th xlsx: hazardous waste generated, per capita\n",
    "# Goal 12, Target 12.4, Indicator 12.4.2\n",
    "haz_waste_gen_pc = pd.read_excel('data/EN_HAZ_PCAP.xlsx')\n",
    "haz_waste_gen_pc.head(2)"
   ]
  },
  {
   "cell_type": "code",
   "execution_count": 44,
   "metadata": {},
   "outputs": [
    {
     "name": "stdout",
     "output_type": "stream",
     "text": [
      "<class 'pandas.core.frame.DataFrame'>\n",
      "RangeIndex: 769 entries, 0 to 768\n",
      "Data columns (total 3 columns):\n",
      "GeoAreaName    769 non-null object\n",
      "TimePeriod     769 non-null int64\n",
      "Value          769 non-null float64\n",
      "dtypes: float64(1), int64(1), object(1)\n",
      "memory usage: 18.1+ KB\n"
     ]
    },
    {
     "data": {
      "text/plain": [
       "GeoAreaName     object\n",
       "TimePeriod       int32\n",
       "Value          float64\n",
       "dtype: object"
      ]
     },
     "execution_count": 44,
     "metadata": {},
     "output_type": "execute_result"
    }
   ],
   "source": [
    "haz_waste_gen_pc = haz_waste_gen_pc[[\"GeoAreaName\", 'TimePeriod', 'Value']]\n",
    "haz_waste_gen_pc.info()\n",
    "haz_waste_gen_pc.astype({'TimePeriod': 'int32'}).dtypes"
   ]
  },
  {
   "cell_type": "code",
   "execution_count": 45,
   "metadata": {
    "collapsed": true
   },
   "outputs": [
    {
     "ename": "ValueError",
     "evalue": "You are trying to merge on object and int64 columns. If you wish to proceed you should use pd.concat",
     "output_type": "error",
     "traceback": [
      "\u001b[1;31m---------------------------------------------------------------------------\u001b[0m",
      "\u001b[1;31mValueError\u001b[0m                                Traceback (most recent call last)",
      "\u001b[1;32m<ipython-input-45-ba5213ab8aaa>\u001b[0m in \u001b[0;36m<module>\u001b[1;34m\u001b[0m\n\u001b[0;32m      1\u001b[0m \u001b[1;31m# Merge the \"haz_waste_gen_pc\" dataframe with previously merged \"merged_electronic\" dataframe\u001b[0m\u001b[1;33m\u001b[0m\u001b[1;33m\u001b[0m\u001b[1;33m\u001b[0m\u001b[0m\n\u001b[1;32m----> 2\u001b[1;33m \u001b[0mmerged_e_haz\u001b[0m \u001b[1;33m=\u001b[0m \u001b[0mpd\u001b[0m\u001b[1;33m.\u001b[0m\u001b[0mmerge\u001b[0m\u001b[1;33m(\u001b[0m\u001b[0mmerged_electronic\u001b[0m\u001b[1;33m,\u001b[0m \u001b[0mhaz_waste_gen_pc\u001b[0m\u001b[1;33m,\u001b[0m \u001b[0mon\u001b[0m\u001b[1;33m=\u001b[0m\u001b[1;33m[\u001b[0m\u001b[1;34m\"TimePeriod\"\u001b[0m\u001b[1;33m]\u001b[0m\u001b[1;33m)\u001b[0m\u001b[1;33m\u001b[0m\u001b[1;33m\u001b[0m\u001b[0m\n\u001b[0m\u001b[0;32m      3\u001b[0m \u001b[0mmerged_e_haz\u001b[0m\u001b[1;33m.\u001b[0m\u001b[0mhead\u001b[0m\u001b[1;33m(\u001b[0m\u001b[1;33m)\u001b[0m\u001b[1;33m\u001b[0m\u001b[1;33m\u001b[0m\u001b[0m\n",
      "\u001b[1;32m~\\Anaconda3\\envs\\PythonData\\lib\\site-packages\\pandas\\core\\reshape\\merge.py\u001b[0m in \u001b[0;36mmerge\u001b[1;34m(left, right, how, on, left_on, right_on, left_index, right_index, sort, suffixes, copy, indicator, validate)\u001b[0m\n\u001b[0;32m     79\u001b[0m         \u001b[0mcopy\u001b[0m\u001b[1;33m=\u001b[0m\u001b[0mcopy\u001b[0m\u001b[1;33m,\u001b[0m\u001b[1;33m\u001b[0m\u001b[1;33m\u001b[0m\u001b[0m\n\u001b[0;32m     80\u001b[0m         \u001b[0mindicator\u001b[0m\u001b[1;33m=\u001b[0m\u001b[0mindicator\u001b[0m\u001b[1;33m,\u001b[0m\u001b[1;33m\u001b[0m\u001b[1;33m\u001b[0m\u001b[0m\n\u001b[1;32m---> 81\u001b[1;33m         \u001b[0mvalidate\u001b[0m\u001b[1;33m=\u001b[0m\u001b[0mvalidate\u001b[0m\u001b[1;33m,\u001b[0m\u001b[1;33m\u001b[0m\u001b[1;33m\u001b[0m\u001b[0m\n\u001b[0m\u001b[0;32m     82\u001b[0m     )\n\u001b[0;32m     83\u001b[0m     \u001b[1;32mreturn\u001b[0m \u001b[0mop\u001b[0m\u001b[1;33m.\u001b[0m\u001b[0mget_result\u001b[0m\u001b[1;33m(\u001b[0m\u001b[1;33m)\u001b[0m\u001b[1;33m\u001b[0m\u001b[1;33m\u001b[0m\u001b[0m\n",
      "\u001b[1;32m~\\Anaconda3\\envs\\PythonData\\lib\\site-packages\\pandas\\core\\reshape\\merge.py\u001b[0m in \u001b[0;36m__init__\u001b[1;34m(self, left, right, how, on, left_on, right_on, axis, left_index, right_index, sort, suffixes, copy, indicator, validate)\u001b[0m\n\u001b[0;32m    628\u001b[0m         \u001b[1;31m# validate the merge keys dtypes. We may need to coerce\u001b[0m\u001b[1;33m\u001b[0m\u001b[1;33m\u001b[0m\u001b[1;33m\u001b[0m\u001b[0m\n\u001b[0;32m    629\u001b[0m         \u001b[1;31m# to avoid incompat dtypes\u001b[0m\u001b[1;33m\u001b[0m\u001b[1;33m\u001b[0m\u001b[1;33m\u001b[0m\u001b[0m\n\u001b[1;32m--> 630\u001b[1;33m         \u001b[0mself\u001b[0m\u001b[1;33m.\u001b[0m\u001b[0m_maybe_coerce_merge_keys\u001b[0m\u001b[1;33m(\u001b[0m\u001b[1;33m)\u001b[0m\u001b[1;33m\u001b[0m\u001b[1;33m\u001b[0m\u001b[0m\n\u001b[0m\u001b[0;32m    631\u001b[0m \u001b[1;33m\u001b[0m\u001b[0m\n\u001b[0;32m    632\u001b[0m         \u001b[1;31m# If argument passed to validate,\u001b[0m\u001b[1;33m\u001b[0m\u001b[1;33m\u001b[0m\u001b[1;33m\u001b[0m\u001b[0m\n",
      "\u001b[1;32m~\\Anaconda3\\envs\\PythonData\\lib\\site-packages\\pandas\\core\\reshape\\merge.py\u001b[0m in \u001b[0;36m_maybe_coerce_merge_keys\u001b[1;34m(self)\u001b[0m\n\u001b[0;32m   1136\u001b[0m                     \u001b[0minferred_right\u001b[0m \u001b[1;32min\u001b[0m \u001b[0mstring_types\u001b[0m \u001b[1;32mand\u001b[0m \u001b[0minferred_left\u001b[0m \u001b[1;32mnot\u001b[0m \u001b[1;32min\u001b[0m \u001b[0mstring_types\u001b[0m\u001b[1;33m\u001b[0m\u001b[1;33m\u001b[0m\u001b[0m\n\u001b[0;32m   1137\u001b[0m                 ):\n\u001b[1;32m-> 1138\u001b[1;33m                     \u001b[1;32mraise\u001b[0m \u001b[0mValueError\u001b[0m\u001b[1;33m(\u001b[0m\u001b[0mmsg\u001b[0m\u001b[1;33m)\u001b[0m\u001b[1;33m\u001b[0m\u001b[1;33m\u001b[0m\u001b[0m\n\u001b[0m\u001b[0;32m   1139\u001b[0m \u001b[1;33m\u001b[0m\u001b[0m\n\u001b[0;32m   1140\u001b[0m             \u001b[1;31m# datetimelikes must match exactly\u001b[0m\u001b[1;33m\u001b[0m\u001b[1;33m\u001b[0m\u001b[1;33m\u001b[0m\u001b[0m\n",
      "\u001b[1;31mValueError\u001b[0m: You are trying to merge on object and int64 columns. If you wish to proceed you should use pd.concat"
     ]
    }
   ],
   "source": [
    "# # Merge the \"haz_waste_gen_pc\" dataframe with previously merged \"merged_electronic\" dataframe \n",
    "# merged_e_haz = pd.merge(merged_electronic, haz_waste_gen_pc, on=[\"TimePeriod\"])\n",
    "# merged_e_haz.head()"
   ]
  },
  {
   "cell_type": "code",
   "execution_count": 19,
   "metadata": {
    "scrolled": false
   },
   "outputs": [
    {
     "data": {
      "text/html": [
       "<div>\n",
       "<style scoped>\n",
       "    .dataframe tbody tr th:only-of-type {\n",
       "        vertical-align: middle;\n",
       "    }\n",
       "\n",
       "    .dataframe tbody tr th {\n",
       "        vertical-align: top;\n",
       "    }\n",
       "\n",
       "    .dataframe thead th {\n",
       "        text-align: right;\n",
       "    }\n",
       "</style>\n",
       "<table border=\"1\" class=\"dataframe\">\n",
       "  <thead>\n",
       "    <tr style=\"text-align: right;\">\n",
       "      <th></th>\n",
       "      <th>Goal</th>\n",
       "      <th>Target</th>\n",
       "      <th>Indicator</th>\n",
       "      <th>SeriesCode</th>\n",
       "      <th>SeriesDescription</th>\n",
       "      <th>GeoAreaCode</th>\n",
       "      <th>GeoAreaName</th>\n",
       "      <th>Nature</th>\n",
       "      <th>Reporting Type</th>\n",
       "      <th>Units</th>\n",
       "      <th>...</th>\n",
       "      <th>2008</th>\n",
       "      <th>2009</th>\n",
       "      <th>2010</th>\n",
       "      <th>2011</th>\n",
       "      <th>2012</th>\n",
       "      <th>2013</th>\n",
       "      <th>2014</th>\n",
       "      <th>2015</th>\n",
       "      <th>2016</th>\n",
       "      <th>2017</th>\n",
       "    </tr>\n",
       "  </thead>\n",
       "  <tbody>\n",
       "    <tr>\n",
       "      <td>0</td>\n",
       "      <td>12</td>\n",
       "      <td>12.4</td>\n",
       "      <td>12.4.2</td>\n",
       "      <td>EN_HAZ_GENV</td>\n",
       "      <td>Hazardous waste generated (Tonnes)</td>\n",
       "      <td>12</td>\n",
       "      <td>Algeria</td>\n",
       "      <td>C</td>\n",
       "      <td>G</td>\n",
       "      <td>TONNES</td>\n",
       "      <td>...</td>\n",
       "      <td>NaN</td>\n",
       "      <td>NaN</td>\n",
       "      <td>NaN</td>\n",
       "      <td>NaN</td>\n",
       "      <td>NaN</td>\n",
       "      <td>NaN</td>\n",
       "      <td>NaN</td>\n",
       "      <td>NaN</td>\n",
       "      <td>NaN</td>\n",
       "      <td>NaN</td>\n",
       "    </tr>\n",
       "    <tr>\n",
       "      <td>1</td>\n",
       "      <td>12</td>\n",
       "      <td>12.4</td>\n",
       "      <td>12.4.2</td>\n",
       "      <td>EN_HAZ_GENV</td>\n",
       "      <td>Hazardous waste generated (Tonnes)</td>\n",
       "      <td>20</td>\n",
       "      <td>Andorra</td>\n",
       "      <td>C</td>\n",
       "      <td>G</td>\n",
       "      <td>TONNES</td>\n",
       "      <td>...</td>\n",
       "      <td>NaN</td>\n",
       "      <td>NaN</td>\n",
       "      <td>NaN</td>\n",
       "      <td>NaN</td>\n",
       "      <td>NaN</td>\n",
       "      <td>976.0</td>\n",
       "      <td>2081.0</td>\n",
       "      <td>1788.0</td>\n",
       "      <td>1923.40002</td>\n",
       "      <td>1527.5</td>\n",
       "    </tr>\n",
       "  </tbody>\n",
       "</table>\n",
       "<p>2 rows × 28 columns</p>\n",
       "</div>"
      ],
      "text/plain": [
       "   Goal  Target Indicator   SeriesCode                   SeriesDescription  \\\n",
       "0    12    12.4    12.4.2  EN_HAZ_GENV  Hazardous waste generated (Tonnes)   \n",
       "1    12    12.4    12.4.2  EN_HAZ_GENV  Hazardous waste generated (Tonnes)   \n",
       "\n",
       "   GeoAreaCode GeoAreaName Nature Reporting Type   Units  ...  2008  2009  \\\n",
       "0           12     Algeria      C              G  TONNES  ...   NaN   NaN   \n",
       "1           20     Andorra      C              G  TONNES  ...   NaN   NaN   \n",
       "\n",
       "   2010  2011  2012   2013    2014    2015        2016    2017  \n",
       "0   NaN   NaN   NaN    NaN     NaN     NaN         NaN     NaN  \n",
       "1   NaN   NaN   NaN  976.0  2081.0  1788.0  1923.40002  1527.5  \n",
       "\n",
       "[2 rows x 28 columns]"
      ]
     },
     "execution_count": 19,
     "metadata": {},
     "output_type": "execute_result"
    }
   ],
   "source": [
    "# 6th xlsx: hazardous waste generated, in metric tonnes\n",
    "# Goal 12, Target 12.4, Indicator 12.4.2\n",
    "haz_waste_gen_total = pd.read_excel('data/EN_HAZ_GENV.xlsx')\n",
    "haz_waste_gen_total.head(2)"
   ]
  },
  {
   "cell_type": "markdown",
   "metadata": {},
   "source": [
    "### Merge the two hazardous waste generated dataframes"
   ]
  },
  {
   "cell_type": "code",
   "execution_count": null,
   "metadata": {},
   "outputs": [],
   "source": []
  },
  {
   "cell_type": "code",
   "execution_count": null,
   "metadata": {},
   "outputs": [],
   "source": []
  },
  {
   "cell_type": "code",
   "execution_count": null,
   "metadata": {},
   "outputs": [],
   "source": []
  },
  {
   "cell_type": "code",
   "execution_count": null,
   "metadata": {},
   "outputs": [],
   "source": []
  },
  {
   "cell_type": "code",
   "execution_count": null,
   "metadata": {},
   "outputs": [],
   "source": []
  },
  {
   "cell_type": "code",
   "execution_count": null,
   "metadata": {},
   "outputs": [],
   "source": []
  },
  {
   "cell_type": "code",
   "execution_count": null,
   "metadata": {},
   "outputs": [],
   "source": []
  },
  {
   "cell_type": "code",
   "execution_count": null,
   "metadata": {},
   "outputs": [],
   "source": []
  },
  {
   "cell_type": "code",
   "execution_count": null,
   "metadata": {},
   "outputs": [],
   "source": []
  },
  {
   "cell_type": "code",
   "execution_count": null,
   "metadata": {},
   "outputs": [],
   "source": []
  }
 ],
 "metadata": {
  "kernelspec": {
   "display_name": "Python 3",
   "language": "python",
   "name": "python3"
  },
  "language_info": {
   "codemirror_mode": {
    "name": "ipython",
    "version": 3
   },
   "file_extension": ".py",
   "mimetype": "text/x-python",
   "name": "python",
   "nbconvert_exporter": "python",
   "pygments_lexer": "ipython3",
   "version": "3.6.9"
  }
 },
 "nbformat": 4,
 "nbformat_minor": 2
}
